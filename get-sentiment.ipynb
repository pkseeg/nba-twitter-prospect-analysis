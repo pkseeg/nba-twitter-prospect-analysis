{
 "cells": [
  {
   "cell_type": "code",
   "execution_count": 1,
   "metadata": {},
   "outputs": [],
   "source": [
    "import pandas as pd\n",
    "\n",
    "# Interacting with the API\n",
    "import json\n",
    "from ibm_watson import NaturalLanguageUnderstandingV1\n",
    "from ibm_cloud_sdk_core.authenticators import IAMAuthenticator\n",
    "from ibm_watson.natural_language_understanding_v1 import Features, EmotionOptions, SentimentOptions, CategoriesOptions"
   ]
  },
  {
   "cell_type": "code",
   "execution_count": 2,
   "metadata": {},
   "outputs": [],
   "source": [
    "creds = {\n",
    "  \"apikey\": \"DxXZG9G24IFMBznqOQcI3SYa7MW6kU-hj3Hb3cWa-CoI\",\n",
    "  \"iam_apikey_description\": \"Auto-generated for key 4a896ef7-db2c-4b9a-ba6e-87b526989ec2\",\n",
    "  \"iam_apikey_name\": \"Auto-generated service credentials\",\n",
    "  \"iam_role_crn\": \"crn:v1:bluemix:public:iam::::serviceRole:Manager\",\n",
    "  \"iam_serviceid_crn\": \"crn:v1:bluemix:public:iam-identity::a/9cff25d774234ca6926e478038b1a5f0::serviceid:ServiceId-66f813a7-b446-48b3-838f-48fd95e3f20c\",\n",
    "  \"url\": \"https://api.us-south.natural-language-understanding.watson.cloud.ibm.com/instances/60e2504b-0a72-434f-b0a6-606bca97a695\"\n",
    "}"
   ]
  },
  {
   "cell_type": "code",
   "execution_count": 14,
   "metadata": {},
   "outputs": [
    {
     "data": {
      "text/html": [
       "<div>\n",
       "<style scoped>\n",
       "    .dataframe tbody tr th:only-of-type {\n",
       "        vertical-align: middle;\n",
       "    }\n",
       "\n",
       "    .dataframe tbody tr th {\n",
       "        vertical-align: top;\n",
       "    }\n",
       "\n",
       "    .dataframe thead th {\n",
       "        text-align: right;\n",
       "    }\n",
       "</style>\n",
       "<table border=\"1\" class=\"dataframe\">\n",
       "  <thead>\n",
       "    <tr style=\"text-align: right;\">\n",
       "      <th></th>\n",
       "      <th>year</th>\n",
       "      <th>twitter_handle</th>\n",
       "      <th>cleaned_text</th>\n",
       "    </tr>\n",
       "  </thead>\n",
       "  <tbody>\n",
       "    <tr>\n",
       "      <td>0</td>\n",
       "      <td>2014-2015</td>\n",
       "      <td>alexlen</td>\n",
       "      <td>great time visiting hq today and seeing new ga...</td>\n",
       "    </tr>\n",
       "    <tr>\n",
       "      <td>1</td>\n",
       "      <td>2012-2013</td>\n",
       "      <td>alexlen</td>\n",
       "      <td>great time last night meeting wonderful people...</td>\n",
       "    </tr>\n",
       "    <tr>\n",
       "      <td>2</td>\n",
       "      <td>2016-2017</td>\n",
       "      <td>alexlen</td>\n",
       "      <td>come see me tonight at pm on camelback &amp;amp; l...</td>\n",
       "    </tr>\n",
       "    <tr>\n",
       "      <td>3</td>\n",
       "      <td>2019-2020</td>\n",
       "      <td>alexlen</td>\n",
       "      <td>: theres no doubt in my mind, though. im the s...</td>\n",
       "    </tr>\n",
       "    <tr>\n",
       "      <td>4</td>\n",
       "      <td>2015-2016</td>\n",
       "      <td>alexlen</td>\n",
       "      <td>: [new video] : couple days from last week wit...</td>\n",
       "    </tr>\n",
       "  </tbody>\n",
       "</table>\n",
       "</div>"
      ],
      "text/plain": [
       "        year twitter_handle                                       cleaned_text\n",
       "0  2014-2015        alexlen  great time visiting hq today and seeing new ga...\n",
       "1  2012-2013        alexlen  great time last night meeting wonderful people...\n",
       "2  2016-2017        alexlen  come see me tonight at pm on camelback &amp; l...\n",
       "3  2019-2020        alexlen  : theres no doubt in my mind, though. im the s...\n",
       "4  2015-2016        alexlen  : [new video] : couple days from last week wit..."
      ]
     },
     "execution_count": 14,
     "metadata": {},
     "output_type": "execute_result"
    }
   ],
   "source": [
    "# data\n",
    "player_text = pd.read_csv('data/player_text_by_season.csv')\n",
    "player_text.head()"
   ]
  },
  {
   "cell_type": "code",
   "execution_count": 25,
   "metadata": {},
   "outputs": [],
   "source": [
    "authenticator = IAMAuthenticator(creds['apikey'])\n",
    "natural_language_understanding = NaturalLanguageUnderstandingV1(\n",
    "    version='2020-08-01',\n",
    "    authenticator=authenticator\n",
    ")\n",
    "natural_language_understanding.set_service_url(creds['url'])"
   ]
  },
  {
   "cell_type": "code",
   "execution_count": 5,
   "metadata": {},
   "outputs": [],
   "source": [
    "# doc_labels\n",
    "#   doc_labels\n",
    "#    ' '.join([d['label'] for d in response['categories']])\n",
    "#   doc_labels_weights\n",
    "#    ' '.join([str(d['score']) for d in response['categories']])\n",
    "# emotions\n",
    "#   emot_anger\n",
    "#    response['emotion']['document']['emotion']['anger']\n",
    "#   emot_disgust\n",
    "#    response['emotion']['document']['emotion']['disgust']\n",
    "#   emot_fear\n",
    "#    response['emotion']['document']['emotion']['fear']\n",
    "#   emot_joy\n",
    "#    response['emotion']['document']['emotion']['joy']\n",
    "#   emot_sadness\n",
    "#    response['emotion']['document']['emotion']['sadness']\n",
    "# sentiment\n",
    "#   sent_class\n",
    "#    response['sentiment']['document']['label']\n",
    "#   sent_score\n",
    "#    response['sentiment']['document']['score']\n"
   ]
  },
  {
   "cell_type": "code",
   "execution_count": 6,
   "metadata": {},
   "outputs": [],
   "source": [
    "def get_nlu_score(handle,text,season,nlu):\n",
    "    nlu_scores = pd.DataFrame(columns=['twitter_handle','season','cleaned_text',\n",
    "                                      'doc_labels','doc_labels_weights',\n",
    "                                      'emot_anger','emot_disgust','emot_fear',\n",
    "                                      'emot_joy','emot_sadness',\n",
    "                                      'sent_class','sent_score'])\n",
    "    \n",
    "    response = nlu.analyze(text=text,\n",
    "                           features=Features(emotion=EmotionOptions(document=True),\n",
    "                           sentiment=SentimentOptions(document=True),\n",
    "                           categories=CategoriesOptions(limit=20))).get_result()\n",
    "    \n",
    "    row = [handle,season,text,\n",
    "          ' '.join([d['label'] for d in response['categories']]),\n",
    "          ' '.join([str(d['score']) for d in response['categories']]),\n",
    "          response['emotion']['document']['emotion']['anger'],\n",
    "          response['emotion']['document']['emotion']['disgust'],\n",
    "          response['emotion']['document']['emotion']['fear'],\n",
    "          response['emotion']['document']['emotion']['joy'],\n",
    "          response['emotion']['document']['emotion']['sadness'],\n",
    "          response['sentiment']['document']['label'],\n",
    "          response['sentiment']['document']['score']]\n",
    "    \n",
    "    nlu_scores.loc[0] = row\n",
    "    return nlu_scores"
   ]
  },
  {
   "cell_type": "code",
   "execution_count": 30,
   "metadata": {},
   "outputs": [],
   "source": [
    "def get_all_nlu_scores(texts_df,nlu):\n",
    "    nlu_scores = pd.DataFrame(columns=['twitter_handle','season','cleaned_text',\n",
    "                                      'doc_labels','doc_labels_weights',\n",
    "                                      'emot_anger','emot_disgust','emot_fear',\n",
    "                                      'emot_joy','emot_sadness',\n",
    "                                      'sent_class','sent_score'])\n",
    "    error_rows = pd.DataFrame(columns=['twitter_handle',\n",
    "                                      'cleaned_text',\n",
    "                                      'year'])\n",
    "    error_num = 0\n",
    "    for i in range(len(texts_df)):\n",
    "        try:\n",
    "            row = get_nlu_score(texts_df['twitter_handle'].iloc[i],\n",
    "                               texts_df['cleaned_text'].iloc[i],\n",
    "                               texts_df['year'].iloc[i],\n",
    "                               nlu)\n",
    "            nlu_scores = pd.concat([nlu_scores,row])\n",
    "        except:\n",
    "            print('Error occurred. Skipping user '+str(texts_df['twitter_handle'].iloc[i]))\n",
    "            error_row = [texts_df['twitter_handle'].iloc[i],\n",
    "                                    texts_df['cleaned_text'].iloc[i],\n",
    "                                    texts_df['year'].iloc[i]]\n",
    "            error_rows[error_num] = error_row\n",
    "            error_num += 1\n",
    "    return nlu_scores, error_rows, error_num"
   ]
  },
  {
   "cell_type": "code",
   "execution_count": 31,
   "metadata": {},
   "outputs": [
    {
     "name": "stdout",
     "output_type": "stream",
     "text": [
      "Error occurred. Skipping user GorguiDieng\n",
      "Error occurred. Skipping user juanchiviris41\n",
      "Error occurred. Skipping user juanchiviris41\n",
      "Error occurred. Skipping user juanchiviris41\n",
      "Error occurred. Skipping user juanchiviris41\n",
      "Error occurred. Skipping user juanchiviris41\n",
      "Error occurred. Skipping user juanchiviris41\n",
      "Error occurred. Skipping user juanchiviris41\n",
      "Error occurred. Skipping user juanchiviris41\n"
     ]
    },
    {
     "name": "stderr",
     "output_type": "stream",
     "text": [
      "ERROR:root:unsupported text language: tr\n",
      "Traceback (most recent call last):\n",
      "  File \"/home/mparkerseegmiller/.local/lib/python3.5/site-packages/ibm_cloud_sdk_core/base_service.py\", line 246, in send\n",
      "    response.status_code, http_response=response)\n",
      "ibm_cloud_sdk_core.api_exception.ApiException: Error: unsupported text language: tr, Code: 400 , X-global-transaction-id: fd78f579-2dd8-4022-825b-89248abed341\n"
     ]
    },
    {
     "name": "stdout",
     "output_type": "stream",
     "text": [
      "Error occurred. Skipping user FurkanKorkmaz\n"
     ]
    },
    {
     "name": "stderr",
     "output_type": "stream",
     "text": [
      "ERROR:root:unsupported text language: tr\n",
      "Traceback (most recent call last):\n",
      "  File \"/home/mparkerseegmiller/.local/lib/python3.5/site-packages/ibm_cloud_sdk_core/base_service.py\", line 246, in send\n",
      "    response.status_code, http_response=response)\n",
      "ibm_cloud_sdk_core.api_exception.ApiException: Error: unsupported text language: tr, Code: 400 , X-global-transaction-id: f1650d2e-4316-4b98-9902-35320cebd7f1\n"
     ]
    },
    {
     "name": "stdout",
     "output_type": "stream",
     "text": [
      "Error occurred. Skipping user FurkanKorkmaz\n"
     ]
    },
    {
     "name": "stderr",
     "output_type": "stream",
     "text": [
      "ERROR:root:unsupported text language: tr\n",
      "Traceback (most recent call last):\n",
      "  File \"/home/mparkerseegmiller/.local/lib/python3.5/site-packages/ibm_cloud_sdk_core/base_service.py\", line 246, in send\n",
      "    response.status_code, http_response=response)\n",
      "ibm_cloud_sdk_core.api_exception.ApiException: Error: unsupported text language: tr, Code: 400 , X-global-transaction-id: 084f8515-e28e-44d7-85da-161ab36ef568\n"
     ]
    },
    {
     "name": "stdout",
     "output_type": "stream",
     "text": [
      "Error occurred. Skipping user FurkanKorkmaz\n"
     ]
    },
    {
     "name": "stderr",
     "output_type": "stream",
     "text": [
      "ERROR:root:unsupported text language: tr\n",
      "Traceback (most recent call last):\n",
      "  File \"/home/mparkerseegmiller/.local/lib/python3.5/site-packages/ibm_cloud_sdk_core/base_service.py\", line 246, in send\n",
      "    response.status_code, http_response=response)\n",
      "ibm_cloud_sdk_core.api_exception.ApiException: Error: unsupported text language: tr, Code: 400 , X-global-transaction-id: 6795f5d6-f3e8-44b1-bd3b-377d0725ec98\n"
     ]
    },
    {
     "name": "stdout",
     "output_type": "stream",
     "text": [
      "Error occurred. Skipping user FurkanKorkmaz\n"
     ]
    },
    {
     "name": "stderr",
     "output_type": "stream",
     "text": [
      "ERROR:root:unsupported text language: tr\n",
      "Traceback (most recent call last):\n",
      "  File \"/home/mparkerseegmiller/.local/lib/python3.5/site-packages/ibm_cloud_sdk_core/base_service.py\", line 246, in send\n",
      "    response.status_code, http_response=response)\n",
      "ibm_cloud_sdk_core.api_exception.ApiException: Error: unsupported text language: tr, Code: 400 , X-global-transaction-id: 5b8d570b-e914-4c0b-a951-2b896c1ff923\n"
     ]
    },
    {
     "name": "stdout",
     "output_type": "stream",
     "text": [
      "Error occurred. Skipping user FurkanKorkmaz\n"
     ]
    },
    {
     "name": "stderr",
     "output_type": "stream",
     "text": [
      "ERROR:root:unsupported text language: tr\n",
      "Traceback (most recent call last):\n",
      "  File \"/home/mparkerseegmiller/.local/lib/python3.5/site-packages/ibm_cloud_sdk_core/base_service.py\", line 246, in send\n",
      "    response.status_code, http_response=response)\n",
      "ibm_cloud_sdk_core.api_exception.ApiException: Error: unsupported text language: tr, Code: 400 , X-global-transaction-id: 6b44cc38-9cdd-4ea2-b4f8-0f826d4c99dd\n"
     ]
    },
    {
     "name": "stdout",
     "output_type": "stream",
     "text": [
      "Error occurred. Skipping user FurkanKorkmaz\n"
     ]
    },
    {
     "name": "stderr",
     "output_type": "stream",
     "text": [
      "ERROR:root:unsupported text language: tr\n",
      "Traceback (most recent call last):\n",
      "  File \"/home/mparkerseegmiller/.local/lib/python3.5/site-packages/ibm_cloud_sdk_core/base_service.py\", line 246, in send\n",
      "    response.status_code, http_response=response)\n",
      "ibm_cloud_sdk_core.api_exception.ApiException: Error: unsupported text language: tr, Code: 400 , X-global-transaction-id: 5a8fa2c0-d033-4147-bd5e-d16ec379ed2b\n"
     ]
    },
    {
     "name": "stdout",
     "output_type": "stream",
     "text": [
      "Error occurred. Skipping user FurkanKorkmaz\n"
     ]
    },
    {
     "name": "stderr",
     "output_type": "stream",
     "text": [
      "ERROR:root:unsupported text language: tr\n",
      "Traceback (most recent call last):\n",
      "  File \"/home/mparkerseegmiller/.local/lib/python3.5/site-packages/ibm_cloud_sdk_core/base_service.py\", line 246, in send\n",
      "    response.status_code, http_response=response)\n",
      "ibm_cloud_sdk_core.api_exception.ApiException: Error: unsupported text language: tr, Code: 400 , X-global-transaction-id: ccc5d178-9ece-4918-bb2e-7d35e82f1c49\n"
     ]
    },
    {
     "name": "stdout",
     "output_type": "stream",
     "text": [
      "Error occurred. Skipping user FurkanKorkmaz\n"
     ]
    },
    {
     "name": "stderr",
     "output_type": "stream",
     "text": [
      "ERROR:root:unsupported text language: tr\n",
      "Traceback (most recent call last):\n",
      "  File \"/home/mparkerseegmiller/.local/lib/python3.5/site-packages/ibm_cloud_sdk_core/base_service.py\", line 246, in send\n",
      "    response.status_code, http_response=response)\n",
      "ibm_cloud_sdk_core.api_exception.ApiException: Error: unsupported text language: tr, Code: 400 , X-global-transaction-id: 96305354-5a68-46eb-b5cf-ee7d502a84fb\n"
     ]
    },
    {
     "name": "stdout",
     "output_type": "stream",
     "text": [
      "Error occurred. Skipping user FurkanKorkmaz\n"
     ]
    },
    {
     "name": "stderr",
     "output_type": "stream",
     "text": [
      "ERROR:root:unsupported text language: fi\n",
      "Traceback (most recent call last):\n",
      "  File \"/home/mparkerseegmiller/.local/lib/python3.5/site-packages/ibm_cloud_sdk_core/base_service.py\", line 246, in send\n",
      "    response.status_code, http_response=response)\n",
      "ibm_cloud_sdk_core.api_exception.ApiException: Error: unsupported text language: fi, Code: 400 , X-global-transaction-id: b2dea5e9-36d6-47af-9371-a308f0834f0d\n"
     ]
    },
    {
     "name": "stdout",
     "output_type": "stream",
     "text": [
      "Error occurred. Skipping user MarkkanenLauri\n"
     ]
    },
    {
     "name": "stderr",
     "output_type": "stream",
     "text": [
      "ERROR:root:unsupported text language: fi\n",
      "Traceback (most recent call last):\n",
      "  File \"/home/mparkerseegmiller/.local/lib/python3.5/site-packages/ibm_cloud_sdk_core/base_service.py\", line 246, in send\n",
      "    response.status_code, http_response=response)\n",
      "ibm_cloud_sdk_core.api_exception.ApiException: Error: unsupported text language: fi, Code: 400 , X-global-transaction-id: 5395eaa8-3e80-4760-8d75-e235811b9197\n"
     ]
    },
    {
     "name": "stdout",
     "output_type": "stream",
     "text": [
      "Error occurred. Skipping user MarkkanenLauri\n"
     ]
    },
    {
     "name": "stderr",
     "output_type": "stream",
     "text": [
      "ERROR:root:unsupported text language: fi\n",
      "Traceback (most recent call last):\n",
      "  File \"/home/mparkerseegmiller/.local/lib/python3.5/site-packages/ibm_cloud_sdk_core/base_service.py\", line 246, in send\n",
      "    response.status_code, http_response=response)\n",
      "ibm_cloud_sdk_core.api_exception.ApiException: Error: unsupported text language: fi, Code: 400 , X-global-transaction-id: 2335d250-9f85-44e3-bba0-42823ed9f318\n"
     ]
    },
    {
     "name": "stdout",
     "output_type": "stream",
     "text": [
      "Error occurred. Skipping user MarkkanenLauri\n"
     ]
    },
    {
     "name": "stderr",
     "output_type": "stream",
     "text": [
      "ERROR:root:unsupported text language: sr\n",
      "Traceback (most recent call last):\n",
      "  File \"/home/mparkerseegmiller/.local/lib/python3.5/site-packages/ibm_cloud_sdk_core/base_service.py\", line 246, in send\n",
      "    response.status_code, http_response=response)\n",
      "ibm_cloud_sdk_core.api_exception.ApiException: Error: unsupported text language: sr, Code: 400 , X-global-transaction-id: 480b7cb4-95aa-4b6e-824e-53d90d4a9317\n"
     ]
    },
    {
     "name": "stdout",
     "output_type": "stream",
     "text": [
      "Error occurred. Skipping user DangubicNemanja\n"
     ]
    },
    {
     "name": "stderr",
     "output_type": "stream",
     "text": [
      "ERROR:root:unsupported text language: sr\n",
      "Traceback (most recent call last):\n",
      "  File \"/home/mparkerseegmiller/.local/lib/python3.5/site-packages/ibm_cloud_sdk_core/base_service.py\", line 246, in send\n",
      "    response.status_code, http_response=response)\n",
      "ibm_cloud_sdk_core.api_exception.ApiException: Error: unsupported text language: sr, Code: 400 , X-global-transaction-id: fe86e0bd-2046-4ab2-bdba-f918b7133393\n"
     ]
    },
    {
     "name": "stdout",
     "output_type": "stream",
     "text": [
      "Error occurred. Skipping user DangubicNemanja\n"
     ]
    },
    {
     "name": "stderr",
     "output_type": "stream",
     "text": [
      "ERROR:root:unsupported text language: sr\n",
      "Traceback (most recent call last):\n",
      "  File \"/home/mparkerseegmiller/.local/lib/python3.5/site-packages/ibm_cloud_sdk_core/base_service.py\", line 246, in send\n",
      "    response.status_code, http_response=response)\n",
      "ibm_cloud_sdk_core.api_exception.ApiException: Error: unsupported text language: sr, Code: 400 , X-global-transaction-id: b3aae62e-84f2-47f8-ab48-f9fb64686fb8\n"
     ]
    },
    {
     "name": "stdout",
     "output_type": "stream",
     "text": [
      "Error occurred. Skipping user DangubicNemanja\n"
     ]
    },
    {
     "name": "stderr",
     "output_type": "stream",
     "text": [
      "ERROR:root:unsupported text language: sr\n",
      "Traceback (most recent call last):\n",
      "  File \"/home/mparkerseegmiller/.local/lib/python3.5/site-packages/ibm_cloud_sdk_core/base_service.py\", line 246, in send\n",
      "    response.status_code, http_response=response)\n",
      "ibm_cloud_sdk_core.api_exception.ApiException: Error: unsupported text language: sr, Code: 400 , X-global-transaction-id: 47968e6f-bfbe-40e2-8e8c-c44cc829a549\n"
     ]
    },
    {
     "name": "stdout",
     "output_type": "stream",
     "text": [
      "Error occurred. Skipping user DangubicNemanja\n",
      "Error occurred. Skipping user TokoShengelia23\n",
      "Error occurred. Skipping user TokoShengelia23\n",
      "Error occurred. Skipping user TokoShengelia23\n",
      "Error occurred. Skipping user TokoShengelia23\n",
      "Error occurred. Skipping user TokoShengelia23\n",
      "Error occurred. Skipping user moritz_weasley\n",
      "Error occurred. Skipping user moritz_weasley\n",
      "Error occurred. Skipping user moritz_weasley\n",
      "Error occurred. Skipping user moritz_weasley\n"
     ]
    },
    {
     "name": "stderr",
     "output_type": "stream",
     "text": [
      "ERROR:root:unsupported text language: lv\n",
      "Traceback (most recent call last):\n",
      "  File \"/home/mparkerseegmiller/.local/lib/python3.5/site-packages/ibm_cloud_sdk_core/base_service.py\", line 246, in send\n",
      "    response.status_code, http_response=response)\n",
      "ibm_cloud_sdk_core.api_exception.ApiException: Error: unsupported text language: lv, Code: 400 , X-global-transaction-id: cdb73c6d-ebad-45fd-9cb0-5895e44e9de6\n"
     ]
    },
    {
     "name": "stdout",
     "output_type": "stream",
     "text": [
      "Error occurred. Skipping user DBertans_42\n"
     ]
    },
    {
     "name": "stderr",
     "output_type": "stream",
     "text": [
      "ERROR:root:unsupported text language: lv\n",
      "Traceback (most recent call last):\n",
      "  File \"/home/mparkerseegmiller/.local/lib/python3.5/site-packages/ibm_cloud_sdk_core/base_service.py\", line 246, in send\n",
      "    response.status_code, http_response=response)\n",
      "ibm_cloud_sdk_core.api_exception.ApiException: Error: unsupported text language: lv, Code: 400 , X-global-transaction-id: ac005dfc-cdcc-4200-ad9f-f2f38450992d\n"
     ]
    },
    {
     "name": "stdout",
     "output_type": "stream",
     "text": [
      "Error occurred. Skipping user DBertans_42\n"
     ]
    },
    {
     "name": "stderr",
     "output_type": "stream",
     "text": [
      "ERROR:root:unsupported text language: lv\n",
      "Traceback (most recent call last):\n",
      "  File \"/home/mparkerseegmiller/.local/lib/python3.5/site-packages/ibm_cloud_sdk_core/base_service.py\", line 246, in send\n",
      "    response.status_code, http_response=response)\n",
      "ibm_cloud_sdk_core.api_exception.ApiException: Error: unsupported text language: lv, Code: 400 , X-global-transaction-id: 66625e06-d623-4b99-87a1-84a48751117a\n"
     ]
    },
    {
     "name": "stdout",
     "output_type": "stream",
     "text": [
      "Error occurred. Skipping user DBertans_42\n"
     ]
    },
    {
     "name": "stderr",
     "output_type": "stream",
     "text": [
      "ERROR:root:unsupported text language: lv\n",
      "Traceback (most recent call last):\n",
      "  File \"/home/mparkerseegmiller/.local/lib/python3.5/site-packages/ibm_cloud_sdk_core/base_service.py\", line 246, in send\n",
      "    response.status_code, http_response=response)\n",
      "ibm_cloud_sdk_core.api_exception.ApiException: Error: unsupported text language: lv, Code: 400 , X-global-transaction-id: 6c6fce9f-a66d-4950-93a2-d845377cdf3d\n"
     ]
    },
    {
     "name": "stdout",
     "output_type": "stream",
     "text": [
      "Error occurred. Skipping user DBertans_42\n"
     ]
    },
    {
     "name": "stderr",
     "output_type": "stream",
     "text": [
      "ERROR:root:unsupported text language: lv\n",
      "Traceback (most recent call last):\n",
      "  File \"/home/mparkerseegmiller/.local/lib/python3.5/site-packages/ibm_cloud_sdk_core/base_service.py\", line 246, in send\n",
      "    response.status_code, http_response=response)\n",
      "ibm_cloud_sdk_core.api_exception.ApiException: Error: unsupported text language: lv, Code: 400 , X-global-transaction-id: 1bc87650-abab-45f8-b141-a468260e50aa\n"
     ]
    },
    {
     "name": "stdout",
     "output_type": "stream",
     "text": [
      "Error occurred. Skipping user DBertans_42\n"
     ]
    },
    {
     "name": "stderr",
     "output_type": "stream",
     "text": [
      "ERROR:root:unsupported text language: lv\n",
      "Traceback (most recent call last):\n",
      "  File \"/home/mparkerseegmiller/.local/lib/python3.5/site-packages/ibm_cloud_sdk_core/base_service.py\", line 246, in send\n",
      "    response.status_code, http_response=response)\n",
      "ibm_cloud_sdk_core.api_exception.ApiException: Error: unsupported text language: lv, Code: 400 , X-global-transaction-id: f60f20e4-333d-447e-a6fa-5055ab91c75f\n"
     ]
    },
    {
     "name": "stdout",
     "output_type": "stream",
     "text": [
      "Error occurred. Skipping user DBertans_42\n"
     ]
    },
    {
     "name": "stderr",
     "output_type": "stream",
     "text": [
      "ERROR:root:unsupported text language: lv\n",
      "Traceback (most recent call last):\n",
      "  File \"/home/mparkerseegmiller/.local/lib/python3.5/site-packages/ibm_cloud_sdk_core/base_service.py\", line 246, in send\n",
      "    response.status_code, http_response=response)\n",
      "ibm_cloud_sdk_core.api_exception.ApiException: Error: unsupported text language: lv, Code: 400 , X-global-transaction-id: dcc13ff9-145d-4271-b015-3e5926aeb5d7\n"
     ]
    },
    {
     "name": "stdout",
     "output_type": "stream",
     "text": [
      "Error occurred. Skipping user DBertans_42\n"
     ]
    },
    {
     "name": "stderr",
     "output_type": "stream",
     "text": [
      "ERROR:root:unsupported text language: lv\n",
      "Traceback (most recent call last):\n",
      "  File \"/home/mparkerseegmiller/.local/lib/python3.5/site-packages/ibm_cloud_sdk_core/base_service.py\", line 246, in send\n",
      "    response.status_code, http_response=response)\n",
      "ibm_cloud_sdk_core.api_exception.ApiException: Error: unsupported text language: lv, Code: 400 , X-global-transaction-id: 78519989-601d-4f12-932c-6d6065620d73\n"
     ]
    },
    {
     "name": "stdout",
     "output_type": "stream",
     "text": [
      "Error occurred. Skipping user DBertans_42\n"
     ]
    },
    {
     "name": "stderr",
     "output_type": "stream",
     "text": [
      "ERROR:root:unsupported text language: lv\n",
      "Traceback (most recent call last):\n",
      "  File \"/home/mparkerseegmiller/.local/lib/python3.5/site-packages/ibm_cloud_sdk_core/base_service.py\", line 246, in send\n",
      "    response.status_code, http_response=response)\n",
      "ibm_cloud_sdk_core.api_exception.ApiException: Error: unsupported text language: lv, Code: 400 , X-global-transaction-id: 7d51cde4-b767-4f6f-812f-c3e074b04a76\n"
     ]
    },
    {
     "name": "stdout",
     "output_type": "stream",
     "text": [
      "Error occurred. Skipping user DBertans_42\n",
      "Error occurred. Skipping user taybowl_\n"
     ]
    },
    {
     "name": "stderr",
     "output_type": "stream",
     "text": [
      "ERROR:root:invalid request\n",
      "Traceback (most recent call last):\n",
      "  File \"/home/mparkerseegmiller/.local/lib/python3.5/site-packages/ibm_cloud_sdk_core/base_service.py\", line 246, in send\n",
      "    response.status_code, http_response=response)\n",
      "ibm_cloud_sdk_core.api_exception.ApiException: Error: invalid request, Code: 400 , X-global-transaction-id: a65bc780-084d-4232-9295-67eb220793bf\n"
     ]
    },
    {
     "name": "stdout",
     "output_type": "stream",
     "text": [
      "Error occurred. Skipping user JonLeuer30\n",
      "Error occurred. Skipping user EvanFourmizz\n",
      "Error occurred. Skipping user EvanFourmizz\n",
      "Error occurred. Skipping user EvanFourmizz\n",
      "Error occurred. Skipping user EvanFourmizz\n",
      "Error occurred. Skipping user EvanFourmizz\n"
     ]
    },
    {
     "name": "stderr",
     "output_type": "stream",
     "text": [
      "ERROR:root:unsupported text language: tr\n",
      "Traceback (most recent call last):\n",
      "  File \"/home/mparkerseegmiller/.local/lib/python3.5/site-packages/ibm_cloud_sdk_core/base_service.py\", line 246, in send\n",
      "    response.status_code, http_response=response)\n",
      "ibm_cloud_sdk_core.api_exception.ApiException: Error: unsupported text language: tr, Code: 400 , X-global-transaction-id: b99fe9a2-4be0-4280-bd0e-c56ac10b829c\n"
     ]
    },
    {
     "name": "stdout",
     "output_type": "stream",
     "text": [
      "Error occurred. Skipping user ilknkrmn\n"
     ]
    },
    {
     "name": "stderr",
     "output_type": "stream",
     "text": [
      "ERROR:root:unsupported text language: tr\n",
      "Traceback (most recent call last):\n",
      "  File \"/home/mparkerseegmiller/.local/lib/python3.5/site-packages/ibm_cloud_sdk_core/base_service.py\", line 246, in send\n",
      "    response.status_code, http_response=response)\n",
      "ibm_cloud_sdk_core.api_exception.ApiException: Error: unsupported text language: tr, Code: 400 , X-global-transaction-id: 23dfcbf6-ea16-42bf-b368-82f3365345c0\n"
     ]
    },
    {
     "name": "stdout",
     "output_type": "stream",
     "text": [
      "Error occurred. Skipping user ilknkrmn\n"
     ]
    },
    {
     "name": "stderr",
     "output_type": "stream",
     "text": [
      "ERROR:root:unsupported text language: tr\n",
      "Traceback (most recent call last):\n",
      "  File \"/home/mparkerseegmiller/.local/lib/python3.5/site-packages/ibm_cloud_sdk_core/base_service.py\", line 246, in send\n",
      "    response.status_code, http_response=response)\n",
      "ibm_cloud_sdk_core.api_exception.ApiException: Error: unsupported text language: tr, Code: 400 , X-global-transaction-id: 76caaa13-7f61-4717-9b2b-beb38b0f7d50\n"
     ]
    },
    {
     "name": "stdout",
     "output_type": "stream",
     "text": [
      "Error occurred. Skipping user ilknkrmn\n"
     ]
    },
    {
     "name": "stderr",
     "output_type": "stream",
     "text": [
      "ERROR:root:unsupported text language: tr\n",
      "Traceback (most recent call last):\n",
      "  File \"/home/mparkerseegmiller/.local/lib/python3.5/site-packages/ibm_cloud_sdk_core/base_service.py\", line 246, in send\n",
      "    response.status_code, http_response=response)\n",
      "ibm_cloud_sdk_core.api_exception.ApiException: Error: unsupported text language: tr, Code: 400 , X-global-transaction-id: fc486650-979e-40f8-b6af-bb2400fb7299\n"
     ]
    },
    {
     "name": "stdout",
     "output_type": "stream",
     "text": [
      "Error occurred. Skipping user ilknkrmn\n"
     ]
    },
    {
     "name": "stderr",
     "output_type": "stream",
     "text": [
      "ERROR:root:unsupported text language: tr\n",
      "Traceback (most recent call last):\n",
      "  File \"/home/mparkerseegmiller/.local/lib/python3.5/site-packages/ibm_cloud_sdk_core/base_service.py\", line 246, in send\n",
      "    response.status_code, http_response=response)\n",
      "ibm_cloud_sdk_core.api_exception.ApiException: Error: unsupported text language: tr, Code: 400 , X-global-transaction-id: d5bd4539-381c-491b-90f0-b4fa8d965580\n"
     ]
    },
    {
     "name": "stdout",
     "output_type": "stream",
     "text": [
      "Error occurred. Skipping user ilknkrmn\n"
     ]
    },
    {
     "name": "stderr",
     "output_type": "stream",
     "text": [
      "ERROR:root:unsupported text language: tr\n",
      "Traceback (most recent call last):\n",
      "  File \"/home/mparkerseegmiller/.local/lib/python3.5/site-packages/ibm_cloud_sdk_core/base_service.py\", line 246, in send\n",
      "    response.status_code, http_response=response)\n",
      "ibm_cloud_sdk_core.api_exception.ApiException: Error: unsupported text language: tr, Code: 400 , X-global-transaction-id: 7d1b4792-fa35-4e79-b721-355e30eb6c80\n"
     ]
    },
    {
     "name": "stdout",
     "output_type": "stream",
     "text": [
      "Error occurred. Skipping user ilknkrmn\n"
     ]
    },
    {
     "name": "stderr",
     "output_type": "stream",
     "text": [
      "ERROR:root:unsupported text language: tr\n",
      "Traceback (most recent call last):\n",
      "  File \"/home/mparkerseegmiller/.local/lib/python3.5/site-packages/ibm_cloud_sdk_core/base_service.py\", line 246, in send\n",
      "    response.status_code, http_response=response)\n",
      "ibm_cloud_sdk_core.api_exception.ApiException: Error: unsupported text language: tr, Code: 400 , X-global-transaction-id: 1fcbbdca-4b69-4311-85a5-d46dbb14325b\n"
     ]
    },
    {
     "name": "stdout",
     "output_type": "stream",
     "text": [
      "Error occurred. Skipping user ilknkrmn\n"
     ]
    },
    {
     "name": "stderr",
     "output_type": "stream",
     "text": [
      "ERROR:root:unsupported text language: tr\n",
      "Traceback (most recent call last):\n",
      "  File \"/home/mparkerseegmiller/.local/lib/python3.5/site-packages/ibm_cloud_sdk_core/base_service.py\", line 246, in send\n",
      "    response.status_code, http_response=response)\n",
      "ibm_cloud_sdk_core.api_exception.ApiException: Error: unsupported text language: tr, Code: 400 , X-global-transaction-id: a68036aa-f209-4306-9988-746264eac68e\n"
     ]
    },
    {
     "name": "stdout",
     "output_type": "stream",
     "text": [
      "Error occurred. Skipping user ilknkrmn\n"
     ]
    },
    {
     "name": "stderr",
     "output_type": "stream",
     "text": [
      "ERROR:root:unsupported text language: tr\n",
      "Traceback (most recent call last):\n",
      "  File \"/home/mparkerseegmiller/.local/lib/python3.5/site-packages/ibm_cloud_sdk_core/base_service.py\", line 246, in send\n",
      "    response.status_code, http_response=response)\n",
      "ibm_cloud_sdk_core.api_exception.ApiException: Error: unsupported text language: tr, Code: 400 , X-global-transaction-id: 68f36b7a-197e-4774-9ff4-dc6203b6114a\n"
     ]
    },
    {
     "name": "stdout",
     "output_type": "stream",
     "text": [
      "Error occurred. Skipping user ilknkrmn\n"
     ]
    },
    {
     "name": "stderr",
     "output_type": "stream",
     "text": [
      "ERROR:root:unsupported text language: tr\n",
      "Traceback (most recent call last):\n",
      "  File \"/home/mparkerseegmiller/.local/lib/python3.5/site-packages/ibm_cloud_sdk_core/base_service.py\", line 246, in send\n",
      "    response.status_code, http_response=response)\n",
      "ibm_cloud_sdk_core.api_exception.ApiException: Error: unsupported text language: tr, Code: 400 , X-global-transaction-id: 10e9abed-9fbb-439b-bb3a-5dc88edbd87b\n"
     ]
    },
    {
     "name": "stdout",
     "output_type": "stream",
     "text": [
      "Error occurred. Skipping user ilknkrmn\n",
      "Error occurred. Skipping user french_savage\n",
      "Error occurred. Skipping user nikoradicevic\n",
      "Error occurred. Skipping user nikoradicevic\n"
     ]
    },
    {
     "name": "stderr",
     "output_type": "stream",
     "text": [
      "ERROR:root:unsupported text language: sr\n",
      "Traceback (most recent call last):\n",
      "  File \"/home/mparkerseegmiller/.local/lib/python3.5/site-packages/ibm_cloud_sdk_core/base_service.py\", line 246, in send\n",
      "    response.status_code, http_response=response)\n",
      "ibm_cloud_sdk_core.api_exception.ApiException: Error: unsupported text language: sr, Code: 400 , X-global-transaction-id: c2cae3ff-1164-4be9-92dc-9ffe52172f62\n"
     ]
    },
    {
     "name": "stdout",
     "output_type": "stream",
     "text": [
      "Error occurred. Skipping user nikoradicevic\n"
     ]
    },
    {
     "name": "stderr",
     "output_type": "stream",
     "text": [
      "ERROR:root:unsupported text language: sr\n",
      "Traceback (most recent call last):\n",
      "  File \"/home/mparkerseegmiller/.local/lib/python3.5/site-packages/ibm_cloud_sdk_core/base_service.py\", line 246, in send\n",
      "    response.status_code, http_response=response)\n",
      "ibm_cloud_sdk_core.api_exception.ApiException: Error: unsupported text language: sr, Code: 400 , X-global-transaction-id: aea0e732-38de-4443-b59b-8e4f1f3d7107\n"
     ]
    },
    {
     "name": "stdout",
     "output_type": "stream",
     "text": [
      "Error occurred. Skipping user nikoradicevic\n",
      "Error occurred. Skipping user timcabs\n",
      "Error occurred. Skipping user timcabs\n",
      "Error occurred. Skipping user timcabs\n"
     ]
    },
    {
     "name": "stderr",
     "output_type": "stream",
     "text": [
      "ERROR:root:unsupported text language: da\n",
      "Traceback (most recent call last):\n",
      "  File \"/home/mparkerseegmiller/.local/lib/python3.5/site-packages/ibm_cloud_sdk_core/base_service.py\", line 246, in send\n",
      "    response.status_code, http_response=response)\n",
      "ibm_cloud_sdk_core.api_exception.ApiException: Error: unsupported text language: da, Code: 400 , X-global-transaction-id: d7cad1e4-06f3-4bac-9332-de9a3aff9cc7\n"
     ]
    },
    {
     "name": "stdout",
     "output_type": "stream",
     "text": [
      "Error occurred. Skipping user AlecBrown21\n"
     ]
    },
    {
     "name": "stderr",
     "output_type": "stream",
     "text": [
      "ERROR:root:not enough text for language id\n",
      "Traceback (most recent call last):\n",
      "  File \"/home/mparkerseegmiller/.local/lib/python3.5/site-packages/ibm_cloud_sdk_core/base_service.py\", line 246, in send\n",
      "    response.status_code, http_response=response)\n",
      "ibm_cloud_sdk_core.api_exception.ApiException: Error: not enough text for language id, Code: 422 , X-global-transaction-id: 6623e756-5624-4454-ae3b-211c735aae7d\n"
     ]
    },
    {
     "name": "stdout",
     "output_type": "stream",
     "text": [
      "Error occurred. Skipping user AlecBrown21\n",
      "Error occurred. Skipping user kulboka98\n",
      "Error occurred. Skipping user DamienINGLIS\n",
      "Error occurred. Skipping user DamienINGLIS\n",
      "Error occurred. Skipping user DamienINGLIS\n"
     ]
    },
    {
     "name": "stderr",
     "output_type": "stream",
     "text": [
      "ERROR:root:unsupported text language: lt\n",
      "Traceback (most recent call last):\n",
      "  File \"/home/mparkerseegmiller/.local/lib/python3.5/site-packages/ibm_cloud_sdk_core/base_service.py\", line 246, in send\n",
      "    response.status_code, http_response=response)\n",
      "ibm_cloud_sdk_core.api_exception.ApiException: Error: unsupported text language: lt, Code: 400 , X-global-transaction-id: 62874087-0aae-43c1-ba16-37c4616f87f7\n"
     ]
    },
    {
     "name": "stdout",
     "output_type": "stream",
     "text": [
      "Error occurred. Skipping user GudaitisAG\n"
     ]
    },
    {
     "name": "stderr",
     "output_type": "stream",
     "text": [
      "ERROR:root:unsupported text language: lt\n",
      "Traceback (most recent call last):\n",
      "  File \"/home/mparkerseegmiller/.local/lib/python3.5/site-packages/ibm_cloud_sdk_core/base_service.py\", line 246, in send\n",
      "    response.status_code, http_response=response)\n",
      "ibm_cloud_sdk_core.api_exception.ApiException: Error: unsupported text language: lt, Code: 400 , X-global-transaction-id: 3b2d0842-ddf0-4c6a-a0d4-a2d4a7921f9b\n"
     ]
    },
    {
     "name": "stdout",
     "output_type": "stream",
     "text": [
      "Error occurred. Skipping user GudaitisAG\n",
      "Error occurred. Skipping user Bruno_Caboclo\n",
      "Error occurred. Skipping user Bruno_Caboclo\n",
      "Error occurred. Skipping user Bruno_Caboclo\n",
      "Error occurred. Skipping user Bruno_Caboclo\n",
      "Error occurred. Skipping user Bruno_Caboclo\n",
      "Error occurred. Skipping user Bruno_Caboclo\n",
      "Error occurred. Skipping user rudygobert27\n",
      "Error occurred. Skipping user rudygobert27\n",
      "Error occurred. Skipping user rudygobert27\n",
      "Error occurred. Skipping user rudygobert27\n"
     ]
    },
    {
     "name": "stderr",
     "output_type": "stream",
     "text": [
      "ERROR:root:invalid request\n",
      "Traceback (most recent call last):\n",
      "  File \"/home/mparkerseegmiller/.local/lib/python3.5/site-packages/ibm_cloud_sdk_core/base_service.py\", line 246, in send\n",
      "    response.status_code, http_response=response)\n",
      "ibm_cloud_sdk_core.api_exception.ApiException: Error: invalid request, Code: 400 , X-global-transaction-id: 2d5a7872-7676-42d7-bab3-8c0801527846\n"
     ]
    },
    {
     "name": "stdout",
     "output_type": "stream",
     "text": [
      "Error occurred. Skipping user DLamb20\n",
      "Error occurred. Skipping user isaacbonga\n"
     ]
    },
    {
     "name": "stderr",
     "output_type": "stream",
     "text": [
      "ERROR:root:unsupported text language: lv\n",
      "Traceback (most recent call last):\n",
      "  File \"/home/mparkerseegmiller/.local/lib/python3.5/site-packages/ibm_cloud_sdk_core/base_service.py\", line 246, in send\n",
      "    response.status_code, http_response=response)\n",
      "ibm_cloud_sdk_core.api_exception.ApiException: Error: unsupported text language: lv, Code: 400 , X-global-transaction-id: a7855f17-e76a-40a1-a29e-0883716c14fc\n"
     ]
    },
    {
     "name": "stdout",
     "output_type": "stream",
     "text": [
      "Error occurred. Skipping user RODIONS1\n"
     ]
    },
    {
     "name": "stderr",
     "output_type": "stream",
     "text": [
      "ERROR:root:unsupported text language: lv\n",
      "Traceback (most recent call last):\n",
      "  File \"/home/mparkerseegmiller/.local/lib/python3.5/site-packages/ibm_cloud_sdk_core/base_service.py\", line 246, in send\n",
      "    response.status_code, http_response=response)\n",
      "ibm_cloud_sdk_core.api_exception.ApiException: Error: unsupported text language: lv, Code: 400 , X-global-transaction-id: dd6460a8-055d-4ab9-8592-94bcec247736\n"
     ]
    },
    {
     "name": "stdout",
     "output_type": "stream",
     "text": [
      "Error occurred. Skipping user RODIONS1\n"
     ]
    },
    {
     "name": "stderr",
     "output_type": "stream",
     "text": [
      "ERROR:root:unsupported text language: lv\n",
      "Traceback (most recent call last):\n",
      "  File \"/home/mparkerseegmiller/.local/lib/python3.5/site-packages/ibm_cloud_sdk_core/base_service.py\", line 246, in send\n",
      "    response.status_code, http_response=response)\n",
      "ibm_cloud_sdk_core.api_exception.ApiException: Error: unsupported text language: lv, Code: 400 , X-global-transaction-id: ad01208e-0c6a-463a-83fe-0c7b98dfc221\n"
     ]
    },
    {
     "name": "stdout",
     "output_type": "stream",
     "text": [
      "Error occurred. Skipping user RODIONS1\n"
     ]
    },
    {
     "name": "stderr",
     "output_type": "stream",
     "text": [
      "ERROR:root:unsupported text language: lv\n",
      "Traceback (most recent call last):\n",
      "  File \"/home/mparkerseegmiller/.local/lib/python3.5/site-packages/ibm_cloud_sdk_core/base_service.py\", line 246, in send\n",
      "    response.status_code, http_response=response)\n",
      "ibm_cloud_sdk_core.api_exception.ApiException: Error: unsupported text language: lv, Code: 400 , X-global-transaction-id: 2e513d28-321b-4801-9398-c48527eace8e\n"
     ]
    },
    {
     "name": "stdout",
     "output_type": "stream",
     "text": [
      "Error occurred. Skipping user RODIONS1\n"
     ]
    },
    {
     "name": "stderr",
     "output_type": "stream",
     "text": [
      "ERROR:root:unsupported text language: lv\n",
      "Traceback (most recent call last):\n",
      "  File \"/home/mparkerseegmiller/.local/lib/python3.5/site-packages/ibm_cloud_sdk_core/base_service.py\", line 246, in send\n",
      "    response.status_code, http_response=response)\n",
      "ibm_cloud_sdk_core.api_exception.ApiException: Error: unsupported text language: lv, Code: 400 , X-global-transaction-id: 2ee41d7a-64fe-4420-9874-a17ab8dab467\n"
     ]
    },
    {
     "name": "stdout",
     "output_type": "stream",
     "text": [
      "Error occurred. Skipping user RODIONS1\n"
     ]
    },
    {
     "name": "stderr",
     "output_type": "stream",
     "text": [
      "ERROR:root:unsupported text language: lv\n",
      "Traceback (most recent call last):\n",
      "  File \"/home/mparkerseegmiller/.local/lib/python3.5/site-packages/ibm_cloud_sdk_core/base_service.py\", line 246, in send\n",
      "    response.status_code, http_response=response)\n",
      "ibm_cloud_sdk_core.api_exception.ApiException: Error: unsupported text language: lv, Code: 400 , X-global-transaction-id: 3acabeaa-fb4b-4d6d-9ec6-f351c4fb0438\n"
     ]
    },
    {
     "name": "stdout",
     "output_type": "stream",
     "text": [
      "Error occurred. Skipping user AnzejsP\n"
     ]
    },
    {
     "name": "stderr",
     "output_type": "stream",
     "text": [
      "ERROR:root:unsupported text language: lv\n",
      "Traceback (most recent call last):\n",
      "  File \"/home/mparkerseegmiller/.local/lib/python3.5/site-packages/ibm_cloud_sdk_core/base_service.py\", line 246, in send\n",
      "    response.status_code, http_response=response)\n",
      "ibm_cloud_sdk_core.api_exception.ApiException: Error: unsupported text language: lv, Code: 400 , X-global-transaction-id: 2227e18d-d1ae-4390-b1e7-683284d6c397\n"
     ]
    },
    {
     "name": "stdout",
     "output_type": "stream",
     "text": [
      "Error occurred. Skipping user AnzejsP\n"
     ]
    },
    {
     "name": "stderr",
     "output_type": "stream",
     "text": [
      "ERROR:root:not enough text for language id\n",
      "Traceback (most recent call last):\n",
      "  File \"/home/mparkerseegmiller/.local/lib/python3.5/site-packages/ibm_cloud_sdk_core/base_service.py\", line 246, in send\n",
      "    response.status_code, http_response=response)\n",
      "ibm_cloud_sdk_core.api_exception.ApiException: Error: not enough text for language id, Code: 422 , X-global-transaction-id: 0d205e89-b81d-442c-a372-888b2cb5b26e\n"
     ]
    },
    {
     "name": "stdout",
     "output_type": "stream",
     "text": [
      "Error occurred. Skipping user AnzejsP\n",
      "Error occurred. Skipping user Ipjh55\n",
      "Error occurred. Skipping user kporzee\n"
     ]
    },
    {
     "name": "stderr",
     "output_type": "stream",
     "text": [
      "ERROR:root:unsupported text language: lv\n",
      "Traceback (most recent call last):\n",
      "  File \"/home/mparkerseegmiller/.local/lib/python3.5/site-packages/ibm_cloud_sdk_core/base_service.py\", line 246, in send\n",
      "    response.status_code, http_response=response)\n",
      "ibm_cloud_sdk_core.api_exception.ApiException: Error: unsupported text language: lv, Code: 400 , X-global-transaction-id: 9da88625-9611-4b50-8d32-fb2163f55ccc\n"
     ]
    },
    {
     "name": "stdout",
     "output_type": "stream",
     "text": [
      "Error occurred. Skipping user kporzee\n"
     ]
    },
    {
     "name": "stderr",
     "output_type": "stream",
     "text": [
      "ERROR:root:unsupported text language: lv\n",
      "Traceback (most recent call last):\n",
      "  File \"/home/mparkerseegmiller/.local/lib/python3.5/site-packages/ibm_cloud_sdk_core/base_service.py\", line 246, in send\n",
      "    response.status_code, http_response=response)\n",
      "ibm_cloud_sdk_core.api_exception.ApiException: Error: unsupported text language: lv, Code: 400 , X-global-transaction-id: 87fdd2ff-759c-4dd1-9ba5-aafc49c7bf4f\n"
     ]
    },
    {
     "name": "stdout",
     "output_type": "stream",
     "text": [
      "Error occurred. Skipping user kporzee\n"
     ]
    },
    {
     "name": "stderr",
     "output_type": "stream",
     "text": [
      "ERROR:root:unsupported text language: lv\n",
      "Traceback (most recent call last):\n",
      "  File \"/home/mparkerseegmiller/.local/lib/python3.5/site-packages/ibm_cloud_sdk_core/base_service.py\", line 246, in send\n",
      "    response.status_code, http_response=response)\n",
      "ibm_cloud_sdk_core.api_exception.ApiException: Error: unsupported text language: lv, Code: 400 , X-global-transaction-id: ead60df5-7986-4cea-8123-9fa2ef8afb84\n"
     ]
    },
    {
     "name": "stdout",
     "output_type": "stream",
     "text": [
      "Error occurred. Skipping user kporzee\n"
     ]
    },
    {
     "name": "stderr",
     "output_type": "stream",
     "text": [
      "ERROR:root:unsupported text language: lv\n",
      "Traceback (most recent call last):\n",
      "  File \"/home/mparkerseegmiller/.local/lib/python3.5/site-packages/ibm_cloud_sdk_core/base_service.py\", line 246, in send\n",
      "    response.status_code, http_response=response)\n",
      "ibm_cloud_sdk_core.api_exception.ApiException: Error: unsupported text language: lv, Code: 400 , X-global-transaction-id: c1415a1d-a0ea-40b5-8214-fd2ba0fb52ed\n"
     ]
    },
    {
     "name": "stdout",
     "output_type": "stream",
     "text": [
      "Error occurred. Skipping user kporzee\n"
     ]
    },
    {
     "name": "stderr",
     "output_type": "stream",
     "text": [
      "ERROR:root:invalid request\n",
      "Traceback (most recent call last):\n",
      "  File \"/home/mparkerseegmiller/.local/lib/python3.5/site-packages/ibm_cloud_sdk_core/base_service.py\", line 246, in send\n",
      "    response.status_code, http_response=response)\n",
      "ibm_cloud_sdk_core.api_exception.ApiException: Error: invalid request, Code: 400 , X-global-transaction-id: e8891f37-bac8-4d22-8fad-da9842297a1a\n"
     ]
    },
    {
     "name": "stdout",
     "output_type": "stream",
     "text": [
      "Error occurred. Skipping user kylekuzma\n",
      "Error occurred. Skipping user FrankLikina\n",
      "Error occurred. Skipping user FrankLikina\n",
      "Error occurred. Skipping user FrankLikina\n",
      "Error occurred. Skipping user FrankLikina\n",
      "Error occurred. Skipping user izaycordinier\n",
      "Error occurred. Skipping user izaycordinier\n",
      "Error occurred. Skipping user izaycordinier\n",
      "Error occurred. Skipping user izaycordinier\n",
      "Error occurred. Skipping user izaycordinier\n",
      "Error occurred. Skipping user izaycordinier\n"
     ]
    },
    {
     "name": "stderr",
     "output_type": "stream",
     "text": [
      "ERROR:root:not enough text for language id\n",
      "Traceback (most recent call last):\n",
      "  File \"/home/mparkerseegmiller/.local/lib/python3.5/site-packages/ibm_cloud_sdk_core/base_service.py\", line 246, in send\n",
      "    response.status_code, http_response=response)\n",
      "ibm_cloud_sdk_core.api_exception.ApiException: Error: not enough text for language id, Code: 422 , X-global-transaction-id: b3805877-60d5-40a9-a2d5-948f5d8ae45f\n"
     ]
    },
    {
     "name": "stdout",
     "output_type": "stream",
     "text": [
      "Error occurred. Skipping user mikemuscala\n",
      "Error occurred. Skipping user Petr_Cornelie\n",
      "Error occurred. Skipping user Petr_Cornelie\n",
      "Error occurred. Skipping user Petr_Cornelie\n",
      "Error occurred. Skipping user Petr_Cornelie\n",
      "Error occurred. Skipping user Petr_Cornelie\n",
      "Error occurred. Skipping user Petr_Cornelie\n",
      "Error occurred. Skipping user Petr_Cornelie\n",
      "Error occurred. Skipping user Petr_Cornelie\n",
      "Error occurred. Skipping user Petr_Cornelie\n",
      "Error occurred. Skipping user Petr_Cornelie\n"
     ]
    },
    {
     "name": "stderr",
     "output_type": "stream",
     "text": [
      "ERROR:root:not enough text for language id\n",
      "Traceback (most recent call last):\n",
      "  File \"/home/mparkerseegmiller/.local/lib/python3.5/site-packages/ibm_cloud_sdk_core/base_service.py\", line 246, in send\n",
      "    response.status_code, http_response=response)\n",
      "ibm_cloud_sdk_core.api_exception.ApiException: Error: not enough text for language id, Code: 422 , X-global-transaction-id: 1fc12878-4f3d-4af1-bcd4-04a34de096f1\n"
     ]
    },
    {
     "name": "stdout",
     "output_type": "stream",
     "text": [
      "Error occurred. Skipping user Dloading\n"
     ]
    },
    {
     "name": "stderr",
     "output_type": "stream",
     "text": [
      "ERROR:root:unsupported text language: sr\n",
      "Traceback (most recent call last):\n",
      "  File \"/home/mparkerseegmiller/.local/lib/python3.5/site-packages/ibm_cloud_sdk_core/base_service.py\", line 246, in send\n",
      "    response.status_code, http_response=response)\n",
      "ibm_cloud_sdk_core.api_exception.ApiException: Error: unsupported text language: sr, Code: 400 , X-global-transaction-id: 49e2f083-c5e3-42fd-9af0-a7aa13201a4a\n"
     ]
    },
    {
     "name": "stdout",
     "output_type": "stream",
     "text": [
      "Error occurred. Skipping user LeaderOfHorde\n"
     ]
    },
    {
     "name": "stderr",
     "output_type": "stream",
     "text": [
      "ERROR:root:unsupported text language: sr\n",
      "Traceback (most recent call last):\n",
      "  File \"/home/mparkerseegmiller/.local/lib/python3.5/site-packages/ibm_cloud_sdk_core/base_service.py\", line 246, in send\n",
      "    response.status_code, http_response=response)\n",
      "ibm_cloud_sdk_core.api_exception.ApiException: Error: unsupported text language: sr, Code: 400 , X-global-transaction-id: f5de62f7-06d8-46e7-bdb2-8d83165354d6\n"
     ]
    },
    {
     "name": "stdout",
     "output_type": "stream",
     "text": [
      "Error occurred. Skipping user LeaderOfHorde\n"
     ]
    },
    {
     "name": "stderr",
     "output_type": "stream",
     "text": [
      "ERROR:root:not enough text for language id\n",
      "Traceback (most recent call last):\n",
      "  File \"/home/mparkerseegmiller/.local/lib/python3.5/site-packages/ibm_cloud_sdk_core/base_service.py\", line 246, in send\n",
      "    response.status_code, http_response=response)\n",
      "ibm_cloud_sdk_core.api_exception.ApiException: Error: not enough text for language id, Code: 422 , X-global-transaction-id: 2dadcd93-2dae-4836-b6f9-ef0ca9e5539a\n"
     ]
    },
    {
     "name": "stdout",
     "output_type": "stream",
     "text": [
      "Error occurred. Skipping user kazemiworld\n",
      "Error occurred. Skipping user CapelaClint\n",
      "Error occurred. Skipping user CapelaClint\n"
     ]
    },
    {
     "name": "stderr",
     "output_type": "stream",
     "text": [
      "ERROR:root:unsupported text language: lv\n",
      "Traceback (most recent call last):\n",
      "  File \"/home/mparkerseegmiller/.local/lib/python3.5/site-packages/ibm_cloud_sdk_core/base_service.py\", line 246, in send\n",
      "    response.status_code, http_response=response)\n",
      "ibm_cloud_sdk_core.api_exception.ApiException: Error: unsupported text language: lv, Code: 400 , X-global-transaction-id: c55d8559-88f5-43bc-ba5f-d5ceb9b5ac62\n"
     ]
    },
    {
     "name": "stdout",
     "output_type": "stream",
     "text": [
      "Error occurred. Skipping user janis_timma\n"
     ]
    },
    {
     "name": "stderr",
     "output_type": "stream",
     "text": [
      "ERROR:root:unsupported text language: lv\n",
      "Traceback (most recent call last):\n",
      "  File \"/home/mparkerseegmiller/.local/lib/python3.5/site-packages/ibm_cloud_sdk_core/base_service.py\", line 246, in send\n",
      "    response.status_code, http_response=response)\n",
      "ibm_cloud_sdk_core.api_exception.ApiException: Error: unsupported text language: lv, Code: 400 , X-global-transaction-id: d46a1b29-5b95-40aa-9d08-1451f9cc46fc\n"
     ]
    },
    {
     "name": "stdout",
     "output_type": "stream",
     "text": [
      "Error occurred. Skipping user janis_timma\n"
     ]
    },
    {
     "name": "stderr",
     "output_type": "stream",
     "text": [
      "ERROR:root:unsupported text language: lv\n",
      "Traceback (most recent call last):\n",
      "  File \"/home/mparkerseegmiller/.local/lib/python3.5/site-packages/ibm_cloud_sdk_core/base_service.py\", line 246, in send\n",
      "    response.status_code, http_response=response)\n",
      "ibm_cloud_sdk_core.api_exception.ApiException: Error: unsupported text language: lv, Code: 400 , X-global-transaction-id: 7a44cfbc-73e7-4040-a531-668c3b1add93\n"
     ]
    },
    {
     "name": "stdout",
     "output_type": "stream",
     "text": [
      "Error occurred. Skipping user janis_timma\n"
     ]
    },
    {
     "name": "stderr",
     "output_type": "stream",
     "text": [
      "ERROR:root:unsupported text language: ca\n",
      "Traceback (most recent call last):\n",
      "  File \"/home/mparkerseegmiller/.local/lib/python3.5/site-packages/ibm_cloud_sdk_core/base_service.py\", line 246, in send\n",
      "    response.status_code, http_response=response)\n",
      "ibm_cloud_sdk_core.api_exception.ApiException: Error: unsupported text language: ca, Code: 400 , X-global-transaction-id: 3921bebb-973a-4edd-8459-7a3e267293d7\n"
     ]
    },
    {
     "name": "stdout",
     "output_type": "stream",
     "text": [
      "Error occurred. Skipping user janis_timma\n"
     ]
    },
    {
     "name": "stderr",
     "output_type": "stream",
     "text": [
      "ERROR:root:unsupported text language: lv\n",
      "Traceback (most recent call last):\n",
      "  File \"/home/mparkerseegmiller/.local/lib/python3.5/site-packages/ibm_cloud_sdk_core/base_service.py\", line 246, in send\n",
      "    response.status_code, http_response=response)\n",
      "ibm_cloud_sdk_core.api_exception.ApiException: Error: unsupported text language: lv, Code: 400 , X-global-transaction-id: 04149f79-0eb9-4a11-8fb9-4eef2396d702\n"
     ]
    },
    {
     "name": "stdout",
     "output_type": "stream",
     "text": [
      "Error occurred. Skipping user janis_timma\n"
     ]
    },
    {
     "name": "stderr",
     "output_type": "stream",
     "text": [
      "ERROR:root:unsupported text language: lv\n",
      "Traceback (most recent call last):\n",
      "  File \"/home/mparkerseegmiller/.local/lib/python3.5/site-packages/ibm_cloud_sdk_core/base_service.py\", line 246, in send\n",
      "    response.status_code, http_response=response)\n",
      "ibm_cloud_sdk_core.api_exception.ApiException: Error: unsupported text language: lv, Code: 400 , X-global-transaction-id: 8bb582ed-3713-46a2-a196-ea2e8bcb676e\n"
     ]
    },
    {
     "name": "stdout",
     "output_type": "stream",
     "text": [
      "Error occurred. Skipping user janis_timma\n",
      "Error occurred. Skipping user willyhg94\n",
      "Error occurred. Skipping user willyhg94\n",
      "Error occurred. Skipping user willyhg94\n",
      "Error occurred. Skipping user willyhg94\n",
      "Error occurred. Skipping user willyhg94\n",
      "Error occurred. Skipping user willyhg94\n",
      "Error occurred. Skipping user willyhg94\n"
     ]
    },
    {
     "name": "stderr",
     "output_type": "stream",
     "text": [
      "ERROR:root:unsupported text language: hr\n",
      "Traceback (most recent call last):\n",
      "  File \"/home/mparkerseegmiller/.local/lib/python3.5/site-packages/ibm_cloud_sdk_core/base_service.py\", line 246, in send\n",
      "    response.status_code, http_response=response)\n",
      "ibm_cloud_sdk_core.api_exception.ApiException: Error: unsupported text language: hr, Code: 400 , X-global-transaction-id: 51d8d7e5-f227-40ab-9302-a67fd9ce607d\n"
     ]
    },
    {
     "name": "stdout",
     "output_type": "stream",
     "text": [
      "Error occurred. Skipping user TomislavZubcic7\n",
      "Error occurred. Skipping user 1JOLOLO\n",
      "Error occurred. Skipping user 1JOLOLO\n",
      "Error occurred. Skipping user 1JOLOLO\n",
      "Error occurred. Skipping user 1JOLOLO\n",
      "Error occurred. Skipping user 1JOLOLO\n",
      "Error occurred. Skipping user 1JOLOLO\n",
      "Error occurred. Skipping user 1JOLOLO\n",
      "Error occurred. Skipping user 1JOLOLO\n",
      "Error occurred. Skipping user 1JOLOLO\n"
     ]
    },
    {
     "name": "stderr",
     "output_type": "stream",
     "text": [
      "ERROR:root:not enough text for language id\n",
      "Traceback (most recent call last):\n",
      "  File \"/home/mparkerseegmiller/.local/lib/python3.5/site-packages/ibm_cloud_sdk_core/base_service.py\", line 246, in send\n",
      "    response.status_code, http_response=response)\n",
      "ibm_cloud_sdk_core.api_exception.ApiException: Error: not enough text for language id, Code: 422 , X-global-transaction-id: a0990c1b-1efd-453f-8a21-3998c9f837d6\n"
     ]
    },
    {
     "name": "stdout",
     "output_type": "stream",
     "text": [
      "Error occurred. Skipping user AbdelNader2\n",
      "Error occurred. Skipping user RaulTogni\n",
      "Error occurred. Skipping user RaulTogni\n",
      "Error occurred. Skipping user RaulTogni\n",
      "Error occurred. Skipping user RaulTogni\n",
      "Error occurred. Skipping user RaulTogni\n",
      "Error occurred. Skipping user RaulTogni\n",
      "Error occurred. Skipping user RaulTogni\n",
      "Error occurred. Skipping user RaulTogni\n",
      "Error occurred. Skipping user RaulTogni\n",
      "Error occurred. Skipping user RaulTogni\n"
     ]
    },
    {
     "name": "stderr",
     "output_type": "stream",
     "text": [
      "ERROR:root:invalid request\n",
      "Traceback (most recent call last):\n",
      "  File \"/home/mparkerseegmiller/.local/lib/python3.5/site-packages/ibm_cloud_sdk_core/base_service.py\", line 246, in send\n",
      "    response.status_code, http_response=response)\n",
      "ibm_cloud_sdk_core.api_exception.ApiException: Error: invalid request, Code: 400 , X-global-transaction-id: d7f466fe-24a1-4942-b4f4-dcd024a2b77f\n"
     ]
    },
    {
     "name": "stdout",
     "output_type": "stream",
     "text": [
      "Error occurred. Skipping user cheick_diallo13\n"
     ]
    },
    {
     "name": "stderr",
     "output_type": "stream",
     "text": [
      "ERROR:root:invalid request\n",
      "Traceback (most recent call last):\n",
      "  File \"/home/mparkerseegmiller/.local/lib/python3.5/site-packages/ibm_cloud_sdk_core/base_service.py\", line 246, in send\n",
      "    response.status_code, http_response=response)\n",
      "ibm_cloud_sdk_core.api_exception.ApiException: Error: invalid request, Code: 400 , X-global-transaction-id: b980fb39-2362-4f58-b002-2ba5aedbb5f5\n"
     ]
    },
    {
     "name": "stdout",
     "output_type": "stream",
     "text": [
      "Error occurred. Skipping user MalcolmBrogdon7\n",
      "Error occurred. Skipping user paulzzip\n",
      "Error occurred. Skipping user paulzzip\n",
      "Error occurred. Skipping user paulzzip\n"
     ]
    },
    {
     "name": "stderr",
     "output_type": "stream",
     "text": [
      "ERROR:root:unsupported text language: sr\n",
      "Traceback (most recent call last):\n",
      "  File \"/home/mparkerseegmiller/.local/lib/python3.5/site-packages/ibm_cloud_sdk_core/base_service.py\", line 246, in send\n",
      "    response.status_code, http_response=response)\n",
      "ibm_cloud_sdk_core.api_exception.ApiException: Error: unsupported text language: sr, Code: 400 , X-global-transaction-id: 324d4f24-a4ca-43c6-aeeb-d6b3655243cb\n"
     ]
    },
    {
     "name": "stdout",
     "output_type": "stream",
     "text": [
      "Error occurred. Skipping user NemanjaBjelica\n"
     ]
    },
    {
     "name": "stderr",
     "output_type": "stream",
     "text": [
      "ERROR:root:not enough text for language id\n",
      "Traceback (most recent call last):\n",
      "  File \"/home/mparkerseegmiller/.local/lib/python3.5/site-packages/ibm_cloud_sdk_core/base_service.py\", line 246, in send\n",
      "    response.status_code, http_response=response)\n",
      "ibm_cloud_sdk_core.api_exception.ApiException: Error: not enough text for language id, Code: 422 , X-global-transaction-id: bf32e284-f95a-4e6f-981a-2fa4cc44e08d\n"
     ]
    },
    {
     "name": "stdout",
     "output_type": "stream",
     "text": [
      "Error occurred. Skipping user zhaire_smith\n",
      "Error occurred. Skipping user NikolaMirotic33\n",
      "Error occurred. Skipping user NikolaMirotic33\n",
      "Error occurred. Skipping user NikolaMirotic33\n",
      "Error occurred. Skipping user NikolaMirotic33\n",
      "Error occurred. Skipping user NikolaMirotic33\n",
      "Error occurred. Skipping user NikolaMirotic33\n",
      "Error occurred. Skipping user NikolaMirotic33\n",
      "Error occurred. Skipping user NikolaMirotic33\n",
      "Error occurred. Skipping user NikolaMirotic33\n",
      "Error occurred. Skipping user NikolaMirotic33\n"
     ]
    },
    {
     "name": "stderr",
     "output_type": "stream",
     "text": [
      "ERROR:root:invalid request\n",
      "Traceback (most recent call last):\n",
      "  File \"/home/mparkerseegmiller/.local/lib/python3.5/site-packages/ibm_cloud_sdk_core/base_service.py\", line 246, in send\n",
      "    response.status_code, http_response=response)\n",
      "ibm_cloud_sdk_core.api_exception.ApiException: Error: invalid request, Code: 400 , X-global-transaction-id: e91aa67e-11ec-4890-a33e-d72338ad6043\n"
     ]
    },
    {
     "name": "stdout",
     "output_type": "stream",
     "text": [
      "Error occurred. Skipping user Tru_Harp32\n"
     ]
    },
    {
     "name": "stderr",
     "output_type": "stream",
     "text": [
      "ERROR:root:unsupported text language: bs\n",
      "Traceback (most recent call last):\n",
      "  File \"/home/mparkerseegmiller/.local/lib/python3.5/site-packages/ibm_cloud_sdk_core/base_service.py\", line 246, in send\n",
      "    response.status_code, http_response=response)\n",
      "ibm_cloud_sdk_core.api_exception.ApiException: Error: unsupported text language: bs, Code: 400 , X-global-transaction-id: 989b2e2b-3b91-4bc4-a641-c6c828cf8701\n"
     ]
    },
    {
     "name": "stdout",
     "output_type": "stream",
     "text": [
      "Error occurred. Skipping user ivicazubac\n",
      "Error occurred. Skipping user alexabrines\n",
      "Error occurred. Skipping user alexabrines\n",
      "Error occurred. Skipping user alexabrines\n",
      "Error occurred. Skipping user alexabrines\n",
      "Error occurred. Skipping user alexabrines\n",
      "Error occurred. Skipping user alexabrines\n",
      "Error occurred. Skipping user alexabrines\n",
      "Error occurred. Skipping user alexabrines\n",
      "Error occurred. Skipping user alexabrines\n",
      "Error occurred. Skipping user alexabrines\n",
      "Error occurred. Skipping user alexabrines\n"
     ]
    },
    {
     "name": "stderr",
     "output_type": "stream",
     "text": [
      "ERROR:root:unsupported text language: tr\n",
      "Traceback (most recent call last):\n",
      "  File \"/home/mparkerseegmiller/.local/lib/python3.5/site-packages/ibm_cloud_sdk_core/base_service.py\", line 246, in send\n",
      "    response.status_code, http_response=response)\n",
      "ibm_cloud_sdk_core.api_exception.ApiException: Error: unsupported text language: tr, Code: 400 , X-global-transaction-id: 5972c594-7632-4ae4-8ce1-4ee9ecd7f1a5\n"
     ]
    },
    {
     "name": "stdout",
     "output_type": "stream",
     "text": [
      "Error occurred. Skipping user furkanaldemir19\n"
     ]
    },
    {
     "name": "stderr",
     "output_type": "stream",
     "text": [
      "ERROR:root:unsupported text language: tr\n",
      "Traceback (most recent call last):\n",
      "  File \"/home/mparkerseegmiller/.local/lib/python3.5/site-packages/ibm_cloud_sdk_core/base_service.py\", line 246, in send\n",
      "    response.status_code, http_response=response)\n",
      "ibm_cloud_sdk_core.api_exception.ApiException: Error: unsupported text language: tr, Code: 400 , X-global-transaction-id: c6fba40d-81e6-4c4d-8dff-78fc87694487\n"
     ]
    },
    {
     "name": "stdout",
     "output_type": "stream",
     "text": [
      "Error occurred. Skipping user furkanaldemir19\n"
     ]
    },
    {
     "name": "stderr",
     "output_type": "stream",
     "text": [
      "ERROR:root:unsupported text language: tr\n",
      "Traceback (most recent call last):\n",
      "  File \"/home/mparkerseegmiller/.local/lib/python3.5/site-packages/ibm_cloud_sdk_core/base_service.py\", line 246, in send\n",
      "    response.status_code, http_response=response)\n",
      "ibm_cloud_sdk_core.api_exception.ApiException: Error: unsupported text language: tr, Code: 400 , X-global-transaction-id: 5cc9c45f-d944-4da6-b0ab-b5d2ad15043a\n"
     ]
    },
    {
     "name": "stdout",
     "output_type": "stream",
     "text": [
      "Error occurred. Skipping user furkanaldemir19\n"
     ]
    },
    {
     "name": "stderr",
     "output_type": "stream",
     "text": [
      "ERROR:root:unsupported text language: tr\n",
      "Traceback (most recent call last):\n",
      "  File \"/home/mparkerseegmiller/.local/lib/python3.5/site-packages/ibm_cloud_sdk_core/base_service.py\", line 246, in send\n",
      "    response.status_code, http_response=response)\n",
      "ibm_cloud_sdk_core.api_exception.ApiException: Error: unsupported text language: tr, Code: 400 , X-global-transaction-id: f862518f-80bc-441d-bc90-17e5794eba21\n"
     ]
    },
    {
     "name": "stdout",
     "output_type": "stream",
     "text": [
      "Error occurred. Skipping user furkanaldemir19\n"
     ]
    },
    {
     "name": "stderr",
     "output_type": "stream",
     "text": [
      "ERROR:root:unsupported text language: tr\n",
      "Traceback (most recent call last):\n",
      "  File \"/home/mparkerseegmiller/.local/lib/python3.5/site-packages/ibm_cloud_sdk_core/base_service.py\", line 246, in send\n",
      "    response.status_code, http_response=response)\n",
      "ibm_cloud_sdk_core.api_exception.ApiException: Error: unsupported text language: tr, Code: 400 , X-global-transaction-id: de727a27-adda-4af2-9a99-6d297f349d12\n"
     ]
    },
    {
     "name": "stdout",
     "output_type": "stream",
     "text": [
      "Error occurred. Skipping user furkanaldemir19\n"
     ]
    },
    {
     "name": "stderr",
     "output_type": "stream",
     "text": [
      "ERROR:root:unsupported text language: tr\n",
      "Traceback (most recent call last):\n",
      "  File \"/home/mparkerseegmiller/.local/lib/python3.5/site-packages/ibm_cloud_sdk_core/base_service.py\", line 246, in send\n",
      "    response.status_code, http_response=response)\n",
      "ibm_cloud_sdk_core.api_exception.ApiException: Error: unsupported text language: tr, Code: 400 , X-global-transaction-id: 6ee9a0d7-3db2-4b5c-9820-dc32e34c74bd\n"
     ]
    },
    {
     "name": "stdout",
     "output_type": "stream",
     "text": [
      "Error occurred. Skipping user furkanaldemir19\n"
     ]
    },
    {
     "name": "stderr",
     "output_type": "stream",
     "text": [
      "ERROR:root:unsupported text language: tr\n",
      "Traceback (most recent call last):\n",
      "  File \"/home/mparkerseegmiller/.local/lib/python3.5/site-packages/ibm_cloud_sdk_core/base_service.py\", line 246, in send\n",
      "    response.status_code, http_response=response)\n",
      "ibm_cloud_sdk_core.api_exception.ApiException: Error: unsupported text language: tr, Code: 400 , X-global-transaction-id: 682ce4f0-2b66-440d-a798-9665c92f9ad6\n"
     ]
    },
    {
     "name": "stdout",
     "output_type": "stream",
     "text": [
      "Error occurred. Skipping user furkanaldemir19\n"
     ]
    },
    {
     "name": "stderr",
     "output_type": "stream",
     "text": [
      "ERROR:root:unsupported text language: tr\n",
      "Traceback (most recent call last):\n",
      "  File \"/home/mparkerseegmiller/.local/lib/python3.5/site-packages/ibm_cloud_sdk_core/base_service.py\", line 246, in send\n",
      "    response.status_code, http_response=response)\n",
      "ibm_cloud_sdk_core.api_exception.ApiException: Error: unsupported text language: tr, Code: 400 , X-global-transaction-id: aec9d9e8-3310-4a8b-919f-52efd433b3dc\n"
     ]
    },
    {
     "name": "stdout",
     "output_type": "stream",
     "text": [
      "Error occurred. Skipping user cediosman\n"
     ]
    },
    {
     "name": "stderr",
     "output_type": "stream",
     "text": [
      "ERROR:root:unsupported text language: tr\n",
      "Traceback (most recent call last):\n",
      "  File \"/home/mparkerseegmiller/.local/lib/python3.5/site-packages/ibm_cloud_sdk_core/base_service.py\", line 246, in send\n",
      "    response.status_code, http_response=response)\n",
      "ibm_cloud_sdk_core.api_exception.ApiException: Error: unsupported text language: tr, Code: 400 , X-global-transaction-id: 82e8efc8-707e-45a5-a3cf-6dea0a89aa18\n"
     ]
    },
    {
     "name": "stdout",
     "output_type": "stream",
     "text": [
      "Error occurred. Skipping user cediosman\n"
     ]
    },
    {
     "name": "stderr",
     "output_type": "stream",
     "text": [
      "ERROR:root:unsupported text language: tr\n",
      "Traceback (most recent call last):\n",
      "  File \"/home/mparkerseegmiller/.local/lib/python3.5/site-packages/ibm_cloud_sdk_core/base_service.py\", line 246, in send\n",
      "    response.status_code, http_response=response)\n",
      "ibm_cloud_sdk_core.api_exception.ApiException: Error: unsupported text language: tr, Code: 400 , X-global-transaction-id: de9caacd-76f2-4c6d-be8e-3ebde9368c23\n"
     ]
    },
    {
     "name": "stdout",
     "output_type": "stream",
     "text": [
      "Error occurred. Skipping user cediosman\n"
     ]
    },
    {
     "name": "stderr",
     "output_type": "stream",
     "text": [
      "ERROR:root:unsupported text language: tr\n",
      "Traceback (most recent call last):\n",
      "  File \"/home/mparkerseegmiller/.local/lib/python3.5/site-packages/ibm_cloud_sdk_core/base_service.py\", line 246, in send\n",
      "    response.status_code, http_response=response)\n",
      "ibm_cloud_sdk_core.api_exception.ApiException: Error: unsupported text language: tr, Code: 400 , X-global-transaction-id: 643ac01d-3b9a-40c8-a2c6-f8bf69454d87\n"
     ]
    },
    {
     "name": "stdout",
     "output_type": "stream",
     "text": [
      "Error occurred. Skipping user cediosman\n"
     ]
    },
    {
     "name": "stderr",
     "output_type": "stream",
     "text": [
      "ERROR:root:unsupported text language: tr\n",
      "Traceback (most recent call last):\n",
      "  File \"/home/mparkerseegmiller/.local/lib/python3.5/site-packages/ibm_cloud_sdk_core/base_service.py\", line 246, in send\n",
      "    response.status_code, http_response=response)\n",
      "ibm_cloud_sdk_core.api_exception.ApiException: Error: unsupported text language: tr, Code: 400 , X-global-transaction-id: 0f55384e-bcef-40b3-bd98-0dae04a8d532\n"
     ]
    },
    {
     "name": "stdout",
     "output_type": "stream",
     "text": [
      "Error occurred. Skipping user cediosman\n"
     ]
    },
    {
     "name": "stderr",
     "output_type": "stream",
     "text": [
      "ERROR:root:unsupported text language: tr\n",
      "Traceback (most recent call last):\n",
      "  File \"/home/mparkerseegmiller/.local/lib/python3.5/site-packages/ibm_cloud_sdk_core/base_service.py\", line 246, in send\n",
      "    response.status_code, http_response=response)\n",
      "ibm_cloud_sdk_core.api_exception.ApiException: Error: unsupported text language: tr, Code: 400 , X-global-transaction-id: 36574b89-56ff-4d1c-862f-5ab2a35224dd\n"
     ]
    },
    {
     "name": "stdout",
     "output_type": "stream",
     "text": [
      "Error occurred. Skipping user cediosman\n"
     ]
    },
    {
     "name": "stderr",
     "output_type": "stream",
     "text": [
      "ERROR:root:unsupported text language: tr\n",
      "Traceback (most recent call last):\n",
      "  File \"/home/mparkerseegmiller/.local/lib/python3.5/site-packages/ibm_cloud_sdk_core/base_service.py\", line 246, in send\n",
      "    response.status_code, http_response=response)\n",
      "ibm_cloud_sdk_core.api_exception.ApiException: Error: unsupported text language: tr, Code: 400 , X-global-transaction-id: b2a39a61-d44e-4f27-9825-37eea42674fb\n"
     ]
    },
    {
     "name": "stdout",
     "output_type": "stream",
     "text": [
      "Error occurred. Skipping user cediosman\n",
      "Error occurred. Skipping user ThiasLsf\n",
      "Error occurred. Skipping user ThiasLsf\n",
      "Error occurred. Skipping user ThiasLsf\n",
      "Error occurred. Skipping user ThiasLsf\n",
      "Error occurred. Skipping user ThiasLsf\n",
      "Error occurred. Skipping user ThiasLsf\n",
      "Error occurred. Skipping user ThiasLsf\n",
      "Error occurred. Skipping user ThiasLsf\n",
      "Error occurred. Skipping user ThiasLsf\n",
      "Error occurred. Skipping user ThiasLsf\n"
     ]
    },
    {
     "name": "stderr",
     "output_type": "stream",
     "text": [
      "ERROR:root:unsupported text language: sr\n",
      "Traceback (most recent call last):\n",
      "  File \"/home/mparkerseegmiller/.local/lib/python3.5/site-packages/ibm_cloud_sdk_core/base_service.py\", line 246, in send\n",
      "    response.status_code, http_response=response)\n",
      "ibm_cloud_sdk_core.api_exception.ApiException: Error: unsupported text language: sr, Code: 400 , X-global-transaction-id: 8f0fc5e7-fa49-40c3-bab1-fb44d283ecb1\n"
     ]
    },
    {
     "name": "stdout",
     "output_type": "stream",
     "text": [
      "Error occurred. Skipping user mitar_mitar9\n"
     ]
    },
    {
     "name": "stderr",
     "output_type": "stream",
     "text": [
      "ERROR:root:unsupported text language: sr\n",
      "Traceback (most recent call last):\n",
      "  File \"/home/mparkerseegmiller/.local/lib/python3.5/site-packages/ibm_cloud_sdk_core/base_service.py\", line 246, in send\n",
      "    response.status_code, http_response=response)\n",
      "ibm_cloud_sdk_core.api_exception.ApiException: Error: unsupported text language: sr, Code: 400 , X-global-transaction-id: f4bf6e05-81e6-4a1a-abeb-bb7391663fb7\n"
     ]
    },
    {
     "name": "stdout",
     "output_type": "stream",
     "text": [
      "Error occurred. Skipping user mitar_mitar9\n"
     ]
    },
    {
     "name": "stderr",
     "output_type": "stream",
     "text": [
      "ERROR:root:unsupported text language: sr\n",
      "Traceback (most recent call last):\n",
      "  File \"/home/mparkerseegmiller/.local/lib/python3.5/site-packages/ibm_cloud_sdk_core/base_service.py\", line 246, in send\n",
      "    response.status_code, http_response=response)\n",
      "ibm_cloud_sdk_core.api_exception.ApiException: Error: unsupported text language: sr, Code: 400 , X-global-transaction-id: 40867690-152a-416e-83ef-ff75dd51af5c\n"
     ]
    },
    {
     "name": "stdout",
     "output_type": "stream",
     "text": [
      "Error occurred. Skipping user mitar_mitar9\n"
     ]
    },
    {
     "name": "stderr",
     "output_type": "stream",
     "text": [
      "ERROR:root:unsupported text language: sr\n",
      "Traceback (most recent call last):\n",
      "  File \"/home/mparkerseegmiller/.local/lib/python3.5/site-packages/ibm_cloud_sdk_core/base_service.py\", line 246, in send\n",
      "    response.status_code, http_response=response)\n",
      "ibm_cloud_sdk_core.api_exception.ApiException: Error: unsupported text language: sr, Code: 400 , X-global-transaction-id: 5b4e5dc6-2186-4ad8-a8ed-e2a314b9c874\n"
     ]
    },
    {
     "name": "stdout",
     "output_type": "stream",
     "text": [
      "Error occurred. Skipping user mitar_mitar9\n"
     ]
    },
    {
     "name": "stderr",
     "output_type": "stream",
     "text": [
      "ERROR:root:unsupported text language: sr\n",
      "Traceback (most recent call last):\n",
      "  File \"/home/mparkerseegmiller/.local/lib/python3.5/site-packages/ibm_cloud_sdk_core/base_service.py\", line 246, in send\n",
      "    response.status_code, http_response=response)\n",
      "ibm_cloud_sdk_core.api_exception.ApiException: Error: unsupported text language: sr, Code: 400 , X-global-transaction-id: 0fcf7461-33f6-48c6-a6f5-bf34689a2aba\n"
     ]
    },
    {
     "name": "stdout",
     "output_type": "stream",
     "text": [
      "Error occurred. Skipping user mitar_mitar9\n"
     ]
    },
    {
     "name": "stderr",
     "output_type": "stream",
     "text": [
      "ERROR:root:unsupported text language: sr\n",
      "Traceback (most recent call last):\n",
      "  File \"/home/mparkerseegmiller/.local/lib/python3.5/site-packages/ibm_cloud_sdk_core/base_service.py\", line 246, in send\n",
      "    response.status_code, http_response=response)\n",
      "ibm_cloud_sdk_core.api_exception.ApiException: Error: unsupported text language: sr, Code: 400 , X-global-transaction-id: 1fa2da66-e7a8-4ded-9395-698d989959c7\n"
     ]
    },
    {
     "name": "stdout",
     "output_type": "stream",
     "text": [
      "Error occurred. Skipping user mitar_mitar9\n",
      "Error occurred. Skipping user DevinEbanks3\n",
      "Error occurred. Skipping user waltertavares22\n",
      "Error occurred. Skipping user waltertavares22\n",
      "Error occurred. Skipping user waltertavares22\n",
      "Error occurred. Skipping user waltertavares22\n",
      "Error occurred. Skipping user ElieOkobo_0\n",
      "Error occurred. Skipping user ElieOkobo_0\n",
      "Error occurred. Skipping user greivisvasquez\n",
      "Error occurred. Skipping user greivisvasquez\n",
      "Error occurred. Skipping user greivisvasquez\n",
      "Error occurred. Skipping user greivisvasquez\n",
      "Error occurred. Skipping user greivisvasquez\n",
      "Error occurred. Skipping user satoransky\n",
      "Error occurred. Skipping user satoransky\n"
     ]
    },
    {
     "name": "stderr",
     "output_type": "stream",
     "text": [
      "ERROR:root:unsupported text language: cs\n",
      "Traceback (most recent call last):\n",
      "  File \"/home/mparkerseegmiller/.local/lib/python3.5/site-packages/ibm_cloud_sdk_core/base_service.py\", line 246, in send\n",
      "    response.status_code, http_response=response)\n",
      "ibm_cloud_sdk_core.api_exception.ApiException: Error: unsupported text language: cs, Code: 400 , X-global-transaction-id: 81f7bad9-2854-4507-89e1-30dbf159d21f\n"
     ]
    },
    {
     "name": "stdout",
     "output_type": "stream",
     "text": [
      "Error occurred. Skipping user satoransky\n"
     ]
    },
    {
     "name": "stderr",
     "output_type": "stream",
     "text": [
      "ERROR:root:unsupported text language: cs\n",
      "Traceback (most recent call last):\n",
      "  File \"/home/mparkerseegmiller/.local/lib/python3.5/site-packages/ibm_cloud_sdk_core/base_service.py\", line 246, in send\n",
      "    response.status_code, http_response=response)\n",
      "ibm_cloud_sdk_core.api_exception.ApiException: Error: unsupported text language: cs, Code: 400 , X-global-transaction-id: 6bd308ec-9d08-4008-b750-7963a2a3f849\n"
     ]
    },
    {
     "name": "stdout",
     "output_type": "stream",
     "text": [
      "Error occurred. Skipping user satoransky\n",
      "Error occurred. Skipping user satoransky\n",
      "Error occurred. Skipping user satoransky\n",
      "Error occurred. Skipping user KyleSingler\n",
      "Error occurred. Skipping user KyleSingler\n",
      "Error occurred. Skipping user luka7doncic\n",
      "Error occurred. Skipping user luka7doncic\n",
      "Error occurred. Skipping user luka7doncic\n",
      "Error occurred. Skipping user luka7doncic\n",
      "Error occurred. Skipping user luka7doncic\n",
      "Error occurred. Skipping user luka7doncic\n",
      "Error occurred. Skipping user DTP_Mario\n",
      "Error occurred. Skipping user DTP_Mario\n",
      "Error occurred. Skipping user DTP_Mario\n",
      "Error occurred. Skipping user DTP_Mario\n",
      "Error occurred. Skipping user DTP_Mario\n",
      "Error occurred. Skipping user DTP_Mario\n",
      "Error occurred. Skipping user DTP_Mario\n",
      "Error occurred. Skipping user DTP_Mario\n"
     ]
    },
    {
     "name": "stderr",
     "output_type": "stream",
     "text": [
      "ERROR:root:not enough text for language id\n",
      "Traceback (most recent call last):\n",
      "  File \"/home/mparkerseegmiller/.local/lib/python3.5/site-packages/ibm_cloud_sdk_core/base_service.py\", line 246, in send\n",
      "    response.status_code, http_response=response)\n",
      "ibm_cloud_sdk_core.api_exception.ApiException: Error: not enough text for language id, Code: 422 , X-global-transaction-id: 5a6505be-a485-474a-bbfb-ca85c2f595bd\n"
     ]
    },
    {
     "name": "stdout",
     "output_type": "stream",
     "text": [
      "Error occurred. Skipping user Khyri_2\n"
     ]
    }
   ],
   "source": [
    "nlu_scores, error_rows, error_num = get_all_nlu_scores(player_text,natural_language_understanding)"
   ]
  },
  {
   "cell_type": "code",
   "execution_count": 33,
   "metadata": {},
   "outputs": [
    {
     "name": "stdout",
     "output_type": "stream",
     "text": [
      "259 errors occured out of 2709 total seasons of data.\n"
     ]
    }
   ],
   "source": [
    "print(str(error_num)+' errors occured out of '+str(len(nlu_scores))+' total seasons of data.')"
   ]
  },
  {
   "cell_type": "code",
   "execution_count": 35,
   "metadata": {},
   "outputs": [],
   "source": [
    "nlu_scores.to_csv('data/player_by_season_nlu_scores.csv',index=False)"
   ]
  }
 ],
 "metadata": {
  "kernelspec": {
   "display_name": "Python 3",
   "language": "python",
   "name": "python3"
  },
  "language_info": {
   "codemirror_mode": {
    "name": "ipython",
    "version": 3
   },
   "file_extension": ".py",
   "mimetype": "text/x-python",
   "name": "python",
   "nbconvert_exporter": "python",
   "pygments_lexer": "ipython3",
   "version": "3.5.3"
  }
 },
 "nbformat": 4,
 "nbformat_minor": 2
}
