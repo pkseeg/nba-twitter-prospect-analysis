{
 "cells": [
  {
   "cell_type": "code",
   "execution_count": 4,
   "metadata": {},
   "outputs": [],
   "source": [
    "import os\n",
    "import tweepy as tw\n",
    "import pandas as pd\n",
    "import time"
   ]
  },
  {
   "cell_type": "code",
   "execution_count": 3,
   "metadata": {},
   "outputs": [],
   "source": [
    "time.sleep(10)"
   ]
  },
  {
   "cell_type": "code",
   "execution_count": 5,
   "metadata": {},
   "outputs": [],
   "source": [
    "# data paths\n",
    "#   for the record: these were scraped on january 26th 2021\n",
    "player_twitters = 'data/player-twitters.csv'\n",
    "def draft_path(year):\n",
    "    return 'data/drafts/'+str(year)+'-draft.csv'\n",
    "def get_draft_df(year_from,year_to):\n",
    "    df = pd.read_csv(draft_path(year_from))\n",
    "    df['Year'] = [year_from]*len(df)\n",
    "    for yr in range(year_from+1,year_to+1):\n",
    "        new_df = pd.read_csv(draft_path(yr))\n",
    "        new_df['Year'] = [yr]*len(new_df)\n",
    "        df = pd.concat([df,new_df])\n",
    "    return df\n",
    "def add_twitter_data(handles, draft_df):\n",
    "    # build lookup table for twitter handles\n",
    "    hndls = {}\n",
    "    for i in range(len(handles['Player'])):\n",
    "        name = handles['Player'][i].split('\\\\')[0]\n",
    "        hndls[name] = handles['Twitter'][i]\n",
    "    draft_twitters = []\n",
    "    for player in draft_df['Player']:\n",
    "        if player in hndls:\n",
    "            draft_twitters.append(hndls[player])\n",
    "        else:\n",
    "            draft_twitters.append('')\n",
    "    draft_df['twitter_handle'] = draft_twitters\n",
    "# dataframes\n",
    "handles = pd.read_csv(player_twitters)\n",
    "draft_df = get_draft_df(2010,2020)\n",
    "add_twitter_data(handles,draft_df)"
   ]
  },
  {
   "cell_type": "code",
   "execution_count": 6,
   "metadata": {},
   "outputs": [],
   "source": [
    "draft_df.to_csv('data/drafts/all_drafts.csv',index=False)"
   ]
  },
  {
   "cell_type": "code",
   "execution_count": 7,
   "metadata": {},
   "outputs": [
    {
     "data": {
      "text/html": [
       "<div>\n",
       "<style scoped>\n",
       "    .dataframe tbody tr th:only-of-type {\n",
       "        vertical-align: middle;\n",
       "    }\n",
       "\n",
       "    .dataframe tbody tr th {\n",
       "        vertical-align: top;\n",
       "    }\n",
       "\n",
       "    .dataframe thead th {\n",
       "        text-align: right;\n",
       "    }\n",
       "</style>\n",
       "<table border=\"1\" class=\"dataframe\">\n",
       "  <thead>\n",
       "    <tr style=\"text-align: right;\">\n",
       "      <th></th>\n",
       "      <th>Rk</th>\n",
       "      <th>Pk</th>\n",
       "      <th>Tm</th>\n",
       "      <th>Player</th>\n",
       "      <th>College</th>\n",
       "      <th>Yrs</th>\n",
       "      <th>G</th>\n",
       "      <th>MP</th>\n",
       "      <th>PTS</th>\n",
       "      <th>TRB</th>\n",
       "      <th>...</th>\n",
       "      <th>MP.1</th>\n",
       "      <th>PTS.1</th>\n",
       "      <th>TRB.1</th>\n",
       "      <th>AST.1</th>\n",
       "      <th>WS</th>\n",
       "      <th>WS/48</th>\n",
       "      <th>BPM</th>\n",
       "      <th>VORP</th>\n",
       "      <th>Year</th>\n",
       "      <th>twitter_handle</th>\n",
       "    </tr>\n",
       "  </thead>\n",
       "  <tbody>\n",
       "    <tr>\n",
       "      <td>29</td>\n",
       "      <td>30</td>\n",
       "      <td>30</td>\n",
       "      <td>BOS</td>\n",
       "      <td>Desmond Bane</td>\n",
       "      <td>TCU</td>\n",
       "      <td>1.0</td>\n",
       "      <td>13.0</td>\n",
       "      <td>285.0</td>\n",
       "      <td>112.0</td>\n",
       "      <td>36.0</td>\n",
       "      <td>...</td>\n",
       "      <td>21.9</td>\n",
       "      <td>8.6</td>\n",
       "      <td>2.8</td>\n",
       "      <td>1.1</td>\n",
       "      <td>0.5</td>\n",
       "      <td>0.080</td>\n",
       "      <td>-3.0</td>\n",
       "      <td>-0.1</td>\n",
       "      <td>2020</td>\n",
       "      <td>DBane0625</td>\n",
       "    </tr>\n",
       "    <tr>\n",
       "      <td>57</td>\n",
       "      <td>58</td>\n",
       "      <td>58</td>\n",
       "      <td>MIN</td>\n",
       "      <td>Robbie Hummel</td>\n",
       "      <td>Purdue</td>\n",
       "      <td>2.0</td>\n",
       "      <td>98.0</td>\n",
       "      <td>1397.0</td>\n",
       "      <td>379.0</td>\n",
       "      <td>266.0</td>\n",
       "      <td>...</td>\n",
       "      <td>14.3</td>\n",
       "      <td>3.9</td>\n",
       "      <td>2.7</td>\n",
       "      <td>0.5</td>\n",
       "      <td>1.9</td>\n",
       "      <td>0.066</td>\n",
       "      <td>-3.1</td>\n",
       "      <td>-0.4</td>\n",
       "      <td>2012</td>\n",
       "      <td>RobbieHummel</td>\n",
       "    </tr>\n",
       "    <tr>\n",
       "      <td>15</td>\n",
       "      <td>16</td>\n",
       "      <td>16</td>\n",
       "      <td>MIN</td>\n",
       "      <td>Luke Babbitt</td>\n",
       "      <td>Nevada</td>\n",
       "      <td>8.0</td>\n",
       "      <td>381.0</td>\n",
       "      <td>5332.0</td>\n",
       "      <td>1818.0</td>\n",
       "      <td>846.0</td>\n",
       "      <td>...</td>\n",
       "      <td>14.0</td>\n",
       "      <td>4.8</td>\n",
       "      <td>2.2</td>\n",
       "      <td>0.6</td>\n",
       "      <td>7.2</td>\n",
       "      <td>0.065</td>\n",
       "      <td>-2.1</td>\n",
       "      <td>-0.1</td>\n",
       "      <td>2010</td>\n",
       "      <td>Realbabbitt08</td>\n",
       "    </tr>\n",
       "    <tr>\n",
       "      <td>26</td>\n",
       "      <td>27</td>\n",
       "      <td>27</td>\n",
       "      <td>UTA</td>\n",
       "      <td>Udoka Azubuike</td>\n",
       "      <td>Kansas</td>\n",
       "      <td>1.0</td>\n",
       "      <td>9.0</td>\n",
       "      <td>44.0</td>\n",
       "      <td>12.0</td>\n",
       "      <td>11.0</td>\n",
       "      <td>...</td>\n",
       "      <td>4.9</td>\n",
       "      <td>1.3</td>\n",
       "      <td>1.2</td>\n",
       "      <td>0.0</td>\n",
       "      <td>0.1</td>\n",
       "      <td>0.107</td>\n",
       "      <td>-5.0</td>\n",
       "      <td>0.0</td>\n",
       "      <td>2020</td>\n",
       "      <td>TimUdoka</td>\n",
       "    </tr>\n",
       "    <tr>\n",
       "      <td>47</td>\n",
       "      <td>48</td>\n",
       "      <td>48</td>\n",
       "      <td>GSW</td>\n",
       "      <td>Nico Mannion</td>\n",
       "      <td>Arizona</td>\n",
       "      <td>1.0</td>\n",
       "      <td>4.0</td>\n",
       "      <td>28.0</td>\n",
       "      <td>9.0</td>\n",
       "      <td>3.0</td>\n",
       "      <td>...</td>\n",
       "      <td>7.0</td>\n",
       "      <td>2.3</td>\n",
       "      <td>0.8</td>\n",
       "      <td>2.5</td>\n",
       "      <td>0.1</td>\n",
       "      <td>0.096</td>\n",
       "      <td>0.6</td>\n",
       "      <td>0.0</td>\n",
       "      <td>2020</td>\n",
       "      <td>niccolomannion</td>\n",
       "    </tr>\n",
       "  </tbody>\n",
       "</table>\n",
       "<p>5 rows × 24 columns</p>\n",
       "</div>"
      ],
      "text/plain": [
       "    Rk  Pk   Tm          Player  College  Yrs      G      MP     PTS    TRB  \\\n",
       "29  30  30  BOS    Desmond Bane      TCU  1.0   13.0   285.0   112.0   36.0   \n",
       "57  58  58  MIN   Robbie Hummel   Purdue  2.0   98.0  1397.0   379.0  266.0   \n",
       "15  16  16  MIN    Luke Babbitt   Nevada  8.0  381.0  5332.0  1818.0  846.0   \n",
       "26  27  27  UTA  Udoka Azubuike   Kansas  1.0    9.0    44.0    12.0   11.0   \n",
       "47  48  48  GSW    Nico Mannion  Arizona  1.0    4.0    28.0     9.0    3.0   \n",
       "\n",
       "    ...  MP.1  PTS.1  TRB.1  AST.1   WS  WS/48  BPM  VORP  Year  \\\n",
       "29  ...  21.9    8.6    2.8    1.1  0.5  0.080 -3.0  -0.1  2020   \n",
       "57  ...  14.3    3.9    2.7    0.5  1.9  0.066 -3.1  -0.4  2012   \n",
       "15  ...  14.0    4.8    2.2    0.6  7.2  0.065 -2.1  -0.1  2010   \n",
       "26  ...   4.9    1.3    1.2    0.0  0.1  0.107 -5.0   0.0  2020   \n",
       "47  ...   7.0    2.3    0.8    2.5  0.1  0.096  0.6   0.0  2020   \n",
       "\n",
       "    twitter_handle  \n",
       "29       DBane0625  \n",
       "57    RobbieHummel  \n",
       "15   Realbabbitt08  \n",
       "26        TimUdoka  \n",
       "47  niccolomannion  \n",
       "\n",
       "[5 rows x 24 columns]"
      ]
     },
     "execution_count": 7,
     "metadata": {},
     "output_type": "execute_result"
    }
   ],
   "source": [
    "draft_df.sample(5)"
   ]
  },
  {
   "cell_type": "code",
   "execution_count": 4,
   "metadata": {},
   "outputs": [
    {
     "data": {
      "text/plain": [
       "660"
      ]
     },
     "execution_count": 4,
     "metadata": {},
     "output_type": "execute_result"
    }
   ],
   "source": [
    "len(draft_df['Rk'])"
   ]
  },
  {
   "cell_type": "code",
   "execution_count": 5,
   "metadata": {},
   "outputs": [],
   "source": [
    "# it turns out this is the most amount of tweets we'll be able to get\n",
    "#   from each player without going over the limit - 500,000\n",
    "# 1100 tweets per player\n",
    "# we'll also exclude players drafted 2019 and 2020, since in a lot \n",
    "#   of ways the jury is still out on them.\n",
    "draft_df_subset = draft_df[(draft_df['Year'] <= 2018) & (draft_df['Twitter'] != '')]"
   ]
  },
  {
   "cell_type": "code",
   "execution_count": 6,
   "metadata": {},
   "outputs": [],
   "source": [
    "# twitter keys\n",
    "API_key = 'oixmKPW8n8t2lc36fPdl4mSAF'\n",
    "API_secret_key = '32UMo5DcM8dMrgBIzYn46TAHw4PWdg73FLx5sCLmBRl3H10V8K'\n",
    "bearer_token = 'AAAAAAAAAAAAAAAAAAAAAJ5TMAEAAAAApFSd9mnuFxae5fcUH3D%2FJKDYNi0%3DBjmfMoXjVlBjPTasAomlUd4AqlctFmk7GLml80DObF1yl4Lgsf'\n",
    "\n",
    "auth = tw.AppAuthHandler(API_key, API_secret_key)\n",
    "api = tw.API(auth)"
   ]
  },
  {
   "cell_type": "code",
   "execution_count": 7,
   "metadata": {},
   "outputs": [],
   "source": [
    "def get_player_tweets(hndl, num_tweets):\n",
    "    '''\n",
    "    hndl: string, representing twitter handle\n",
    "    returns a pandas series with the following variables:\n",
    "        - handle\n",
    "        - cleaned date/time\n",
    "        - cleaned tweet text\n",
    "    '''\n",
    "    player_tweets = pd.DataFrame(columns = ['handle', 'time', 'text', 'mentions'])\n",
    "    try:\n",
    "        for i, tweet in enumerate(tw.Cursor(api.user_timeline, id = hndl).items(num_tweets)):\n",
    "            row = [hndl, tweet.created_at,tweet.text, ','.join([m['screen_name'] for m in tweet.entities['user_mentions']])]\n",
    "            player_tweets.loc[i] = row\n",
    "    except:\n",
    "        print('Skipping user: '+hndl)\n",
    "    return player_tweets"
   ]
  },
  {
   "cell_type": "code",
   "execution_count": 8,
   "metadata": {},
   "outputs": [],
   "source": [
    "def get_all_tweets(draft_df, num_tweets_per, old_tweets, last_user_captured):\n",
    "    tweets = pd.DataFrame(columns = ['handle', 'time', 'text', 'mentions'])\n",
    "    for handle in draft_df['Twitter']:\n",
    "        if (handle == last_user_captured) or (handle not in set(old_tweets['handle'])):\n",
    "            if handle != '':\n",
    "                try:\n",
    "                    player_tweets = get_player_tweets(handle,num_tweets_per)\n",
    "                    tweets = pd.concat([tweets,player_tweets])\n",
    "                except:\n",
    "                    pass\n",
    "    return tweets"
   ]
  },
  {
   "cell_type": "code",
   "execution_count": 5,
   "metadata": {},
   "outputs": [],
   "source": [
    "tweets = pd.read_csv('data/player_tweets.csv')"
   ]
  },
  {
   "cell_type": "code",
   "execution_count": 6,
   "metadata": {},
   "outputs": [
    {
     "data": {
      "text/plain": [
       "265021"
      ]
     },
     "execution_count": 6,
     "metadata": {},
     "output_type": "execute_result"
    }
   ],
   "source": [
    "len(tweets['handle'])"
   ]
  },
  {
   "cell_type": "code",
   "execution_count": 9,
   "metadata": {},
   "outputs": [],
   "source": [
    "#new_tweets = get_all_tweets(draft_df_subset, 800, tweets, '1jordanbell')"
   ]
  },
  {
   "cell_type": "code",
   "execution_count": 10,
   "metadata": {},
   "outputs": [],
   "source": [
    "#tweets = pd.concat([tweets,new_tweets])"
   ]
  },
  {
   "cell_type": "code",
   "execution_count": 11,
   "metadata": {},
   "outputs": [],
   "source": [
    "tweets.drop_duplicates(inplace=True)\n",
    "tweets.to_csv('data/player_tweets.csv', index=False)"
   ]
  },
  {
   "cell_type": "code",
   "execution_count": 12,
   "metadata": {},
   "outputs": [
    {
     "data": {
      "text/html": [
       "<div>\n",
       "<style scoped>\n",
       "    .dataframe tbody tr th:only-of-type {\n",
       "        vertical-align: middle;\n",
       "    }\n",
       "\n",
       "    .dataframe tbody tr th {\n",
       "        vertical-align: top;\n",
       "    }\n",
       "\n",
       "    .dataframe thead th {\n",
       "        text-align: right;\n",
       "    }\n",
       "</style>\n",
       "<table border=\"1\" class=\"dataframe\">\n",
       "  <thead>\n",
       "    <tr style=\"text-align: right;\">\n",
       "      <th></th>\n",
       "      <th>handle</th>\n",
       "      <th>time</th>\n",
       "      <th>text</th>\n",
       "      <th>mentions</th>\n",
       "    </tr>\n",
       "  </thead>\n",
       "  <tbody>\n",
       "    <tr>\n",
       "      <td>265215</td>\n",
       "      <td>Kostas_ante13</td>\n",
       "      <td>2014-02-10 06:12:06</td>\n",
       "      <td>RT @G_ante34: John Newman- Love me again #Gian...</td>\n",
       "      <td>G_Ante34</td>\n",
       "    </tr>\n",
       "    <tr>\n",
       "      <td>265216</td>\n",
       "      <td>Kostas_ante13</td>\n",
       "      <td>2014-02-08 00:50:24</td>\n",
       "      <td>Tomorrow I got my first practice in Milwaukee ...</td>\n",
       "      <td>NaN</td>\n",
       "    </tr>\n",
       "    <tr>\n",
       "      <td>265217</td>\n",
       "      <td>Kostas_ante13</td>\n",
       "      <td>2014-02-07 01:48:28</td>\n",
       "      <td>Milwaukee is so cold 💨❄️❄️⛄️..But is very nice!!</td>\n",
       "      <td>NaN</td>\n",
       "    </tr>\n",
       "    <tr>\n",
       "      <td>265218</td>\n",
       "      <td>Kostas_ante13</td>\n",
       "      <td>2014-02-06 23:44:45</td>\n",
       "      <td>RT @G_ante34: We are gonna be the first family...</td>\n",
       "      <td>G_Ante34</td>\n",
       "    </tr>\n",
       "    <tr>\n",
       "      <td>265219</td>\n",
       "      <td>Kostas_ante13</td>\n",
       "      <td>2014-02-06 23:43:43</td>\n",
       "      <td>RT @G_ante34: My brothers first smoothies..!! ...</td>\n",
       "      <td>G_Ante34</td>\n",
       "    </tr>\n",
       "  </tbody>\n",
       "</table>\n",
       "</div>"
      ],
      "text/plain": [
       "               handle                 time  \\\n",
       "265215  Kostas_ante13  2014-02-10 06:12:06   \n",
       "265216  Kostas_ante13  2014-02-08 00:50:24   \n",
       "265217  Kostas_ante13  2014-02-07 01:48:28   \n",
       "265218  Kostas_ante13  2014-02-06 23:44:45   \n",
       "265219  Kostas_ante13  2014-02-06 23:43:43   \n",
       "\n",
       "                                                     text  mentions  \n",
       "265215  RT @G_ante34: John Newman- Love me again #Gian...  G_Ante34  \n",
       "265216  Tomorrow I got my first practice in Milwaukee ...       NaN  \n",
       "265217   Milwaukee is so cold 💨❄️❄️⛄️..But is very nice!!       NaN  \n",
       "265218  RT @G_ante34: We are gonna be the first family...  G_Ante34  \n",
       "265219  RT @G_ante34: My brothers first smoothies..!! ...  G_Ante34  "
      ]
     },
     "execution_count": 12,
     "metadata": {},
     "output_type": "execute_result"
    }
   ],
   "source": [
    "tweets.tail()"
   ]
  },
  {
   "cell_type": "code",
   "execution_count": 13,
   "metadata": {},
   "outputs": [
    {
     "name": "stdout",
     "output_type": "stream",
     "text": [
      "# Players Scraped (Total): 433\n",
      "# Tweets Scraped (Total): 265021\n"
     ]
    }
   ],
   "source": [
    "print('# Players Scraped (Total): '+str(len(set(tweets['handle']))))\n",
    "print('# Tweets Scraped (Total): '+str(len(tweets['handle'])))"
   ]
  },
  {
   "cell_type": "code",
   "execution_count": 14,
   "metadata": {},
   "outputs": [],
   "source": [
    "# DELETEME: Isaac\n",
    "isaac = get_player_tweets('isaackendell', 500)\n",
    "import preprocessor as p"
   ]
  },
  {
   "cell_type": "code",
   "execution_count": 16,
   "metadata": {},
   "outputs": [],
   "source": [
    "isaac_words = p.clean(' '.join(isaac['text']))"
   ]
  },
  {
   "cell_type": "code",
   "execution_count": null,
   "metadata": {},
   "outputs": [],
   "source": [
    "tweets.head()"
   ]
  },
  {
   "cell_type": "code",
   "execution_count": 9,
   "metadata": {},
   "outputs": [],
   "source": [
    "# TODO:\n",
    "#  create a year column in the tweets df that stores the season that\n",
    "#     the tweet came from\n",
    "#  join player name to the tweets df"
   ]
  },
  {
   "cell_type": "code",
   "execution_count": 11,
   "metadata": {},
   "outputs": [],
   "source": [
    "mrgn = get_player_tweets('morganlhodson', 620)"
   ]
  },
  {
   "cell_type": "code",
   "execution_count": 12,
   "metadata": {},
   "outputs": [
    {
     "data": {
      "text/html": [
       "<div>\n",
       "<style scoped>\n",
       "    .dataframe tbody tr th:only-of-type {\n",
       "        vertical-align: middle;\n",
       "    }\n",
       "\n",
       "    .dataframe tbody tr th {\n",
       "        vertical-align: top;\n",
       "    }\n",
       "\n",
       "    .dataframe thead th {\n",
       "        text-align: right;\n",
       "    }\n",
       "</style>\n",
       "<table border=\"1\" class=\"dataframe\">\n",
       "  <thead>\n",
       "    <tr style=\"text-align: right;\">\n",
       "      <th></th>\n",
       "      <th>handle</th>\n",
       "      <th>time</th>\n",
       "      <th>text</th>\n",
       "      <th>mentions</th>\n",
       "    </tr>\n",
       "  </thead>\n",
       "  <tbody>\n",
       "    <tr>\n",
       "      <td>0</td>\n",
       "      <td>morganlhodson</td>\n",
       "      <td>2021-01-23 07:52:11</td>\n",
       "      <td>Anyway long story short I forgot that knives a...</td>\n",
       "      <td></td>\n",
       "    </tr>\n",
       "    <tr>\n",
       "      <td>1</td>\n",
       "      <td>morganlhodson</td>\n",
       "      <td>2021-01-23 07:51:19</td>\n",
       "      <td>Okay so I’ve been using awful knives for years...</td>\n",
       "      <td></td>\n",
       "    </tr>\n",
       "    <tr>\n",
       "      <td>2</td>\n",
       "      <td>morganlhodson</td>\n",
       "      <td>2021-01-13 04:24:19</td>\n",
       "      <td>I’m pretty sure it’s a bad omen when your bran...</td>\n",
       "      <td></td>\n",
       "    </tr>\n",
       "    <tr>\n",
       "      <td>3</td>\n",
       "      <td>morganlhodson</td>\n",
       "      <td>2020-12-13 03:35:41</td>\n",
       "      <td>The more I look at my grades, the more serious...</td>\n",
       "      <td></td>\n",
       "    </tr>\n",
       "    <tr>\n",
       "      <td>4</td>\n",
       "      <td>morganlhodson</td>\n",
       "      <td>2020-11-12 03:25:28</td>\n",
       "      <td>I think it’s never. The homework is never actu...</td>\n",
       "      <td></td>\n",
       "    </tr>\n",
       "    <tr>\n",
       "      <td>5</td>\n",
       "      <td>morganlhodson</td>\n",
       "      <td>2020-11-12 03:18:06</td>\n",
       "      <td>I think that made it worse. Okay I miss homewo...</td>\n",
       "      <td></td>\n",
       "    </tr>\n",
       "    <tr>\n",
       "      <td>6</td>\n",
       "      <td>morganlhodson</td>\n",
       "      <td>2020-11-12 03:16:44</td>\n",
       "      <td>That sounded nerdy. I’d like to clarify that I...</td>\n",
       "      <td></td>\n",
       "    </tr>\n",
       "    <tr>\n",
       "      <td>7</td>\n",
       "      <td>morganlhodson</td>\n",
       "      <td>2020-11-12 03:15:35</td>\n",
       "      <td>I miss math</td>\n",
       "      <td></td>\n",
       "    </tr>\n",
       "    <tr>\n",
       "      <td>8</td>\n",
       "      <td>morganlhodson</td>\n",
       "      <td>2020-11-04 17:08:26</td>\n",
       "      <td>RT @lici_lopez: COME ON WE CAN DO THIS ITS SO ...</td>\n",
       "      <td>lici_lopez</td>\n",
       "    </tr>\n",
       "    <tr>\n",
       "      <td>9</td>\n",
       "      <td>morganlhodson</td>\n",
       "      <td>2020-11-02 05:20:29</td>\n",
       "      <td>I have baked 3 cakes and missed so many assign...</td>\n",
       "      <td></td>\n",
       "    </tr>\n",
       "  </tbody>\n",
       "</table>\n",
       "</div>"
      ],
      "text/plain": [
       "          handle                time  \\\n",
       "0  morganlhodson 2021-01-23 07:52:11   \n",
       "1  morganlhodson 2021-01-23 07:51:19   \n",
       "2  morganlhodson 2021-01-13 04:24:19   \n",
       "3  morganlhodson 2020-12-13 03:35:41   \n",
       "4  morganlhodson 2020-11-12 03:25:28   \n",
       "5  morganlhodson 2020-11-12 03:18:06   \n",
       "6  morganlhodson 2020-11-12 03:16:44   \n",
       "7  morganlhodson 2020-11-12 03:15:35   \n",
       "8  morganlhodson 2020-11-04 17:08:26   \n",
       "9  morganlhodson 2020-11-02 05:20:29   \n",
       "\n",
       "                                                text    mentions  \n",
       "0  Anyway long story short I forgot that knives a...              \n",
       "1  Okay so I’ve been using awful knives for years...              \n",
       "2  I’m pretty sure it’s a bad omen when your bran...              \n",
       "3  The more I look at my grades, the more serious...              \n",
       "4  I think it’s never. The homework is never actu...              \n",
       "5  I think that made it worse. Okay I miss homewo...              \n",
       "6  That sounded nerdy. I’d like to clarify that I...              \n",
       "7                                        I miss math              \n",
       "8  RT @lici_lopez: COME ON WE CAN DO THIS ITS SO ...  lici_lopez  \n",
       "9  I have baked 3 cakes and missed so many assign...              "
      ]
     },
     "execution_count": 12,
     "metadata": {},
     "output_type": "execute_result"
    }
   ],
   "source": [
    "mrgn.head(10)"
   ]
  },
  {
   "cell_type": "code",
   "execution_count": 13,
   "metadata": {},
   "outputs": [],
   "source": [
    "mrgn = ' '.join(mrgn['text']).lower()"
   ]
  },
  {
   "cell_type": "code",
   "execution_count": 14,
   "metadata": {},
   "outputs": [],
   "source": [
    "f = open('mrgn_texts.txt','w')\n",
    "f.write(mrgn)\n",
    "f.close()"
   ]
  },
  {
   "cell_type": "code",
   "execution_count": null,
   "metadata": {},
   "outputs": [],
   "source": []
  }
 ],
 "metadata": {
  "kernelspec": {
   "display_name": "Python 3",
   "language": "python",
   "name": "python3"
  },
  "language_info": {
   "codemirror_mode": {
    "name": "ipython",
    "version": 3
   },
   "file_extension": ".py",
   "mimetype": "text/x-python",
   "name": "python",
   "nbconvert_exporter": "python",
   "pygments_lexer": "ipython3",
   "version": "3.5.3"
  }
 },
 "nbformat": 4,
 "nbformat_minor": 2
}
